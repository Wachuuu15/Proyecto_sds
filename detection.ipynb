{
 "cells": [
  {
   "cell_type": "markdown",
   "metadata": {},
   "source": [
    "# Proyecto No.1 Detección de fraudes tarjetas de crédito"
   ]
  },
  {
   "cell_type": "markdown",
   "metadata": {},
   "source": [
    "### Objetivo del proyecto\n",
    "Detectar fraudes relacionados con plataformas digitales y redes sociales."
   ]
  },
  {
   "cell_type": "markdown",
   "metadata": {},
   "source": [
    "## EDA"
   ]
  },
  {
   "cell_type": "code",
   "execution_count": 62,
   "metadata": {},
   "outputs": [],
   "source": [
    "import pandas as pd\n",
    "import numpy as np\n",
    "import seaborn as sns\n",
    "import matplotlib.pyplot as plt\n",
    "import lightgbm as lgb  \n",
    "from lightgbm import early_stopping, log_evaluation, LGBMClassifier\n",
    "from sklearn.preprocessing import LabelEncoder\n",
    "from sklearn.model_selection import train_test_split, StratifiedKFold\n",
    "from sklearn.metrics import roc_auc_score, f1_score, classification_report, confusion_matrix,  precision_recall_curve"
   ]
  },
  {
   "cell_type": "code",
   "execution_count": 2,
   "metadata": {},
   "outputs": [],
   "source": [
    "# Load the dataset\n",
    "df = pd.read_csv('./feature_engineering_work/dataset_feature_engineering.csv')"
   ]
  },
  {
   "cell_type": "code",
   "execution_count": 3,
   "metadata": {},
   "outputs": [
    {
     "name": "stdout",
     "output_type": "stream",
     "text": [
      "Data exploration and preprocessing\n",
      "=======================================\n",
      "             cc_num                            merchant       category  \\\n",
      "0  2703186189652095          fraud_Rippin, Kub and Mann       misc_net   \n",
      "1      630423337322     fraud_Heller, Gutmann and Zieme    grocery_pos   \n",
      "2    38859492057661                fraud_Lind-Buckridge  entertainment   \n",
      "3  3534093764340240  fraud_Kutch, Hermiston and Farrell  gas_transport   \n",
      "4   375534208663984                 fraud_Keeling-Crist       misc_pos   \n",
      "\n",
      "      amt      first     last gender                        street  \\\n",
      "0    4.97   Jennifer    Banks      F                561 Perry Cove   \n",
      "1  107.23  Stephanie     Gill      F  43039 Riley Greens Suite 393   \n",
      "2  220.11     Edward  Sanchez      M      594 White Dale Suite 530   \n",
      "3   45.00     Jeremy    White      M   9443 Cynthia Court Apt. 038   \n",
      "4   41.96      Tyler   Garcia      M              408 Bradley Rest   \n",
      "\n",
      "             city state  ...  first_time_at_merchant  \\\n",
      "0  Moravian Falls    NC  ...                    True   \n",
      "1          Orient    WA  ...                    True   \n",
      "2      Malad City    ID  ...                    True   \n",
      "3         Boulder    MT  ...                    True   \n",
      "4        Doe Hill    VA  ...                    True   \n",
      "\n",
      "   dist_between_client_and_merch  trans_month  trans_day hour  year  \\\n",
      "0                      78.773821            1          1    0  2019   \n",
      "1                      30.216618            1          1    0  2019   \n",
      "2                     108.102912            1          1    0  2019   \n",
      "3                      95.685115            1          1    0  2019   \n",
      "4                      77.702395            1          1    0  2019   \n",
      "\n",
      "  times_shopped_at_merchant  times_shopped_at_merchant_year  \\\n",
      "0                         5                               4   \n",
      "1                         4                               4   \n",
      "2                         4                               3   \n",
      "3                         1                               1   \n",
      "4                         6                               1   \n",
      "\n",
      "   times_shopped_at_merchant_month  times_shopped_at_merchant_day  \n",
      "0                                2                              1  \n",
      "1                                1                              1  \n",
      "2                                1                              1  \n",
      "3                                1                              1  \n",
      "4                                1                              1  \n",
      "\n",
      "[5 rows x 35 columns]\n",
      "=======================================\n"
     ]
    }
   ],
   "source": [
    "print(\"Data exploration and preprocessing\")\n",
    "print(\"=======================================\")\n",
    "print(df.head())\n",
    "print(\"=======================================\")"
   ]
  },
  {
   "cell_type": "code",
   "execution_count": 4,
   "metadata": {},
   "outputs": [
    {
     "data": {
      "text/html": [
       "<div>\n",
       "<style scoped>\n",
       "    .dataframe tbody tr th:only-of-type {\n",
       "        vertical-align: middle;\n",
       "    }\n",
       "\n",
       "    .dataframe tbody tr th {\n",
       "        vertical-align: top;\n",
       "    }\n",
       "\n",
       "    .dataframe thead th {\n",
       "        text-align: right;\n",
       "    }\n",
       "</style>\n",
       "<table border=\"1\" class=\"dataframe\">\n",
       "  <thead>\n",
       "    <tr style=\"text-align: right;\">\n",
       "      <th></th>\n",
       "      <th>cc_num</th>\n",
       "      <th>merchant</th>\n",
       "      <th>category</th>\n",
       "      <th>amt</th>\n",
       "      <th>first</th>\n",
       "      <th>last</th>\n",
       "      <th>gender</th>\n",
       "      <th>street</th>\n",
       "      <th>city</th>\n",
       "      <th>state</th>\n",
       "      <th>...</th>\n",
       "      <th>first_time_at_merchant</th>\n",
       "      <th>dist_between_client_and_merch</th>\n",
       "      <th>trans_month</th>\n",
       "      <th>trans_day</th>\n",
       "      <th>hour</th>\n",
       "      <th>year</th>\n",
       "      <th>times_shopped_at_merchant</th>\n",
       "      <th>times_shopped_at_merchant_year</th>\n",
       "      <th>times_shopped_at_merchant_month</th>\n",
       "      <th>times_shopped_at_merchant_day</th>\n",
       "    </tr>\n",
       "  </thead>\n",
       "  <tbody>\n",
       "    <tr>\n",
       "      <th>0</th>\n",
       "      <td>2703186189652095</td>\n",
       "      <td>fraud_Rippin, Kub and Mann</td>\n",
       "      <td>misc_net</td>\n",
       "      <td>4.97</td>\n",
       "      <td>Jennifer</td>\n",
       "      <td>Banks</td>\n",
       "      <td>F</td>\n",
       "      <td>561 Perry Cove</td>\n",
       "      <td>Moravian Falls</td>\n",
       "      <td>NC</td>\n",
       "      <td>...</td>\n",
       "      <td>True</td>\n",
       "      <td>78.773821</td>\n",
       "      <td>1</td>\n",
       "      <td>1</td>\n",
       "      <td>0</td>\n",
       "      <td>2019</td>\n",
       "      <td>5</td>\n",
       "      <td>4</td>\n",
       "      <td>2</td>\n",
       "      <td>1</td>\n",
       "    </tr>\n",
       "    <tr>\n",
       "      <th>1</th>\n",
       "      <td>630423337322</td>\n",
       "      <td>fraud_Heller, Gutmann and Zieme</td>\n",
       "      <td>grocery_pos</td>\n",
       "      <td>107.23</td>\n",
       "      <td>Stephanie</td>\n",
       "      <td>Gill</td>\n",
       "      <td>F</td>\n",
       "      <td>43039 Riley Greens Suite 393</td>\n",
       "      <td>Orient</td>\n",
       "      <td>WA</td>\n",
       "      <td>...</td>\n",
       "      <td>True</td>\n",
       "      <td>30.216618</td>\n",
       "      <td>1</td>\n",
       "      <td>1</td>\n",
       "      <td>0</td>\n",
       "      <td>2019</td>\n",
       "      <td>4</td>\n",
       "      <td>4</td>\n",
       "      <td>1</td>\n",
       "      <td>1</td>\n",
       "    </tr>\n",
       "    <tr>\n",
       "      <th>2</th>\n",
       "      <td>38859492057661</td>\n",
       "      <td>fraud_Lind-Buckridge</td>\n",
       "      <td>entertainment</td>\n",
       "      <td>220.11</td>\n",
       "      <td>Edward</td>\n",
       "      <td>Sanchez</td>\n",
       "      <td>M</td>\n",
       "      <td>594 White Dale Suite 530</td>\n",
       "      <td>Malad City</td>\n",
       "      <td>ID</td>\n",
       "      <td>...</td>\n",
       "      <td>True</td>\n",
       "      <td>108.102912</td>\n",
       "      <td>1</td>\n",
       "      <td>1</td>\n",
       "      <td>0</td>\n",
       "      <td>2019</td>\n",
       "      <td>4</td>\n",
       "      <td>3</td>\n",
       "      <td>1</td>\n",
       "      <td>1</td>\n",
       "    </tr>\n",
       "    <tr>\n",
       "      <th>3</th>\n",
       "      <td>3534093764340240</td>\n",
       "      <td>fraud_Kutch, Hermiston and Farrell</td>\n",
       "      <td>gas_transport</td>\n",
       "      <td>45.00</td>\n",
       "      <td>Jeremy</td>\n",
       "      <td>White</td>\n",
       "      <td>M</td>\n",
       "      <td>9443 Cynthia Court Apt. 038</td>\n",
       "      <td>Boulder</td>\n",
       "      <td>MT</td>\n",
       "      <td>...</td>\n",
       "      <td>True</td>\n",
       "      <td>95.685115</td>\n",
       "      <td>1</td>\n",
       "      <td>1</td>\n",
       "      <td>0</td>\n",
       "      <td>2019</td>\n",
       "      <td>1</td>\n",
       "      <td>1</td>\n",
       "      <td>1</td>\n",
       "      <td>1</td>\n",
       "    </tr>\n",
       "    <tr>\n",
       "      <th>4</th>\n",
       "      <td>375534208663984</td>\n",
       "      <td>fraud_Keeling-Crist</td>\n",
       "      <td>misc_pos</td>\n",
       "      <td>41.96</td>\n",
       "      <td>Tyler</td>\n",
       "      <td>Garcia</td>\n",
       "      <td>M</td>\n",
       "      <td>408 Bradley Rest</td>\n",
       "      <td>Doe Hill</td>\n",
       "      <td>VA</td>\n",
       "      <td>...</td>\n",
       "      <td>True</td>\n",
       "      <td>77.702395</td>\n",
       "      <td>1</td>\n",
       "      <td>1</td>\n",
       "      <td>0</td>\n",
       "      <td>2019</td>\n",
       "      <td>6</td>\n",
       "      <td>1</td>\n",
       "      <td>1</td>\n",
       "      <td>1</td>\n",
       "    </tr>\n",
       "    <tr>\n",
       "      <th>...</th>\n",
       "      <td>...</td>\n",
       "      <td>...</td>\n",
       "      <td>...</td>\n",
       "      <td>...</td>\n",
       "      <td>...</td>\n",
       "      <td>...</td>\n",
       "      <td>...</td>\n",
       "      <td>...</td>\n",
       "      <td>...</td>\n",
       "      <td>...</td>\n",
       "      <td>...</td>\n",
       "      <td>...</td>\n",
       "      <td>...</td>\n",
       "      <td>...</td>\n",
       "      <td>...</td>\n",
       "      <td>...</td>\n",
       "      <td>...</td>\n",
       "      <td>...</td>\n",
       "      <td>...</td>\n",
       "      <td>...</td>\n",
       "      <td>...</td>\n",
       "    </tr>\n",
       "    <tr>\n",
       "      <th>1852389</th>\n",
       "      <td>30560609640617</td>\n",
       "      <td>fraud_Reilly and Sons</td>\n",
       "      <td>health_fitness</td>\n",
       "      <td>43.77</td>\n",
       "      <td>Michael</td>\n",
       "      <td>Olson</td>\n",
       "      <td>M</td>\n",
       "      <td>558 Michael Estates</td>\n",
       "      <td>Luray</td>\n",
       "      <td>MO</td>\n",
       "      <td>...</td>\n",
       "      <td>False</td>\n",
       "      <td>77.032467</td>\n",
       "      <td>12</td>\n",
       "      <td>3</td>\n",
       "      <td>23</td>\n",
       "      <td>2020</td>\n",
       "      <td>6</td>\n",
       "      <td>3</td>\n",
       "      <td>1</td>\n",
       "      <td>1</td>\n",
       "    </tr>\n",
       "    <tr>\n",
       "      <th>1852390</th>\n",
       "      <td>3556613125071656</td>\n",
       "      <td>fraud_Hoppe-Parisian</td>\n",
       "      <td>kids_pets</td>\n",
       "      <td>111.84</td>\n",
       "      <td>Jose</td>\n",
       "      <td>Vasquez</td>\n",
       "      <td>M</td>\n",
       "      <td>572 Davis Mountains</td>\n",
       "      <td>Lake Jackson</td>\n",
       "      <td>TX</td>\n",
       "      <td>...</td>\n",
       "      <td>False</td>\n",
       "      <td>100.023736</td>\n",
       "      <td>12</td>\n",
       "      <td>3</td>\n",
       "      <td>23</td>\n",
       "      <td>2020</td>\n",
       "      <td>5</td>\n",
       "      <td>3</td>\n",
       "      <td>1</td>\n",
       "      <td>1</td>\n",
       "    </tr>\n",
       "    <tr>\n",
       "      <th>1852391</th>\n",
       "      <td>6011724471098086</td>\n",
       "      <td>fraud_Rau-Robel</td>\n",
       "      <td>kids_pets</td>\n",
       "      <td>86.88</td>\n",
       "      <td>Ann</td>\n",
       "      <td>Lawson</td>\n",
       "      <td>F</td>\n",
       "      <td>144 Evans Islands Apt. 683</td>\n",
       "      <td>Burbank</td>\n",
       "      <td>WA</td>\n",
       "      <td>...</td>\n",
       "      <td>False</td>\n",
       "      <td>80.887812</td>\n",
       "      <td>12</td>\n",
       "      <td>3</td>\n",
       "      <td>23</td>\n",
       "      <td>2020</td>\n",
       "      <td>10</td>\n",
       "      <td>7</td>\n",
       "      <td>1</td>\n",
       "      <td>2</td>\n",
       "    </tr>\n",
       "    <tr>\n",
       "      <th>1852392</th>\n",
       "      <td>4079773899158</td>\n",
       "      <td>fraud_Breitenberg LLC</td>\n",
       "      <td>travel</td>\n",
       "      <td>7.99</td>\n",
       "      <td>Eric</td>\n",
       "      <td>Preston</td>\n",
       "      <td>M</td>\n",
       "      <td>7020 Doyle Stream Apt. 951</td>\n",
       "      <td>Mesa</td>\n",
       "      <td>ID</td>\n",
       "      <td>...</td>\n",
       "      <td>False</td>\n",
       "      <td>53.060882</td>\n",
       "      <td>12</td>\n",
       "      <td>3</td>\n",
       "      <td>23</td>\n",
       "      <td>2020</td>\n",
       "      <td>4</td>\n",
       "      <td>2</td>\n",
       "      <td>2</td>\n",
       "      <td>1</td>\n",
       "    </tr>\n",
       "    <tr>\n",
       "      <th>1852393</th>\n",
       "      <td>4170689372027579</td>\n",
       "      <td>fraud_Dare-Marvin</td>\n",
       "      <td>entertainment</td>\n",
       "      <td>38.13</td>\n",
       "      <td>Samuel</td>\n",
       "      <td>Frey</td>\n",
       "      <td>M</td>\n",
       "      <td>830 Myers Plaza Apt. 384</td>\n",
       "      <td>Edmond</td>\n",
       "      <td>OK</td>\n",
       "      <td>...</td>\n",
       "      <td>False</td>\n",
       "      <td>72.380990</td>\n",
       "      <td>12</td>\n",
       "      <td>3</td>\n",
       "      <td>23</td>\n",
       "      <td>2020</td>\n",
       "      <td>2</td>\n",
       "      <td>1</td>\n",
       "      <td>1</td>\n",
       "      <td>1</td>\n",
       "    </tr>\n",
       "  </tbody>\n",
       "</table>\n",
       "<p>1852394 rows × 35 columns</p>\n",
       "</div>"
      ],
      "text/plain": [
       "                   cc_num                            merchant        category  \\\n",
       "0        2703186189652095          fraud_Rippin, Kub and Mann        misc_net   \n",
       "1            630423337322     fraud_Heller, Gutmann and Zieme     grocery_pos   \n",
       "2          38859492057661                fraud_Lind-Buckridge   entertainment   \n",
       "3        3534093764340240  fraud_Kutch, Hermiston and Farrell   gas_transport   \n",
       "4         375534208663984                 fraud_Keeling-Crist        misc_pos   \n",
       "...                   ...                                 ...             ...   \n",
       "1852389    30560609640617               fraud_Reilly and Sons  health_fitness   \n",
       "1852390  3556613125071656                fraud_Hoppe-Parisian       kids_pets   \n",
       "1852391  6011724471098086                     fraud_Rau-Robel       kids_pets   \n",
       "1852392     4079773899158               fraud_Breitenberg LLC          travel   \n",
       "1852393  4170689372027579                   fraud_Dare-Marvin   entertainment   \n",
       "\n",
       "            amt      first     last gender                        street  \\\n",
       "0          4.97   Jennifer    Banks      F                561 Perry Cove   \n",
       "1        107.23  Stephanie     Gill      F  43039 Riley Greens Suite 393   \n",
       "2        220.11     Edward  Sanchez      M      594 White Dale Suite 530   \n",
       "3         45.00     Jeremy    White      M   9443 Cynthia Court Apt. 038   \n",
       "4         41.96      Tyler   Garcia      M              408 Bradley Rest   \n",
       "...         ...        ...      ...    ...                           ...   \n",
       "1852389   43.77    Michael    Olson      M           558 Michael Estates   \n",
       "1852390  111.84       Jose  Vasquez      M           572 Davis Mountains   \n",
       "1852391   86.88        Ann   Lawson      F    144 Evans Islands Apt. 683   \n",
       "1852392    7.99       Eric  Preston      M    7020 Doyle Stream Apt. 951   \n",
       "1852393   38.13     Samuel     Frey      M      830 Myers Plaza Apt. 384   \n",
       "\n",
       "                   city state  ...  first_time_at_merchant  \\\n",
       "0        Moravian Falls    NC  ...                    True   \n",
       "1                Orient    WA  ...                    True   \n",
       "2            Malad City    ID  ...                    True   \n",
       "3               Boulder    MT  ...                    True   \n",
       "4              Doe Hill    VA  ...                    True   \n",
       "...                 ...   ...  ...                     ...   \n",
       "1852389           Luray    MO  ...                   False   \n",
       "1852390    Lake Jackson    TX  ...                   False   \n",
       "1852391         Burbank    WA  ...                   False   \n",
       "1852392            Mesa    ID  ...                   False   \n",
       "1852393          Edmond    OK  ...                   False   \n",
       "\n",
       "         dist_between_client_and_merch  trans_month  trans_day hour  year  \\\n",
       "0                            78.773821            1          1    0  2019   \n",
       "1                            30.216618            1          1    0  2019   \n",
       "2                           108.102912            1          1    0  2019   \n",
       "3                            95.685115            1          1    0  2019   \n",
       "4                            77.702395            1          1    0  2019   \n",
       "...                                ...          ...        ...  ...   ...   \n",
       "1852389                      77.032467           12          3   23  2020   \n",
       "1852390                     100.023736           12          3   23  2020   \n",
       "1852391                      80.887812           12          3   23  2020   \n",
       "1852392                      53.060882           12          3   23  2020   \n",
       "1852393                      72.380990           12          3   23  2020   \n",
       "\n",
       "        times_shopped_at_merchant  times_shopped_at_merchant_year  \\\n",
       "0                               5                               4   \n",
       "1                               4                               4   \n",
       "2                               4                               3   \n",
       "3                               1                               1   \n",
       "4                               6                               1   \n",
       "...                           ...                             ...   \n",
       "1852389                         6                               3   \n",
       "1852390                         5                               3   \n",
       "1852391                        10                               7   \n",
       "1852392                         4                               2   \n",
       "1852393                         2                               1   \n",
       "\n",
       "         times_shopped_at_merchant_month  times_shopped_at_merchant_day  \n",
       "0                                      2                              1  \n",
       "1                                      1                              1  \n",
       "2                                      1                              1  \n",
       "3                                      1                              1  \n",
       "4                                      1                              1  \n",
       "...                                  ...                            ...  \n",
       "1852389                                1                              1  \n",
       "1852390                                1                              1  \n",
       "1852391                                1                              2  \n",
       "1852392                                2                              1  \n",
       "1852393                                1                              1  \n",
       "\n",
       "[1852394 rows x 35 columns]"
      ]
     },
     "execution_count": 4,
     "metadata": {},
     "output_type": "execute_result"
    }
   ],
   "source": [
    "df"
   ]
  },
  {
   "cell_type": "code",
   "execution_count": 5,
   "metadata": {},
   "outputs": [
    {
     "name": "stdout",
     "output_type": "stream",
     "text": [
      "First 5 rows of the dataset:\n",
      "             cc_num                            merchant       category  \\\n",
      "0  2703186189652095          fraud_Rippin, Kub and Mann       misc_net   \n",
      "1      630423337322     fraud_Heller, Gutmann and Zieme    grocery_pos   \n",
      "2    38859492057661                fraud_Lind-Buckridge  entertainment   \n",
      "3  3534093764340240  fraud_Kutch, Hermiston and Farrell  gas_transport   \n",
      "4   375534208663984                 fraud_Keeling-Crist       misc_pos   \n",
      "\n",
      "      amt      first     last gender                        street  \\\n",
      "0    4.97   Jennifer    Banks      F                561 Perry Cove   \n",
      "1  107.23  Stephanie     Gill      F  43039 Riley Greens Suite 393   \n",
      "2  220.11     Edward  Sanchez      M      594 White Dale Suite 530   \n",
      "3   45.00     Jeremy    White      M   9443 Cynthia Court Apt. 038   \n",
      "4   41.96      Tyler   Garcia      M              408 Bradley Rest   \n",
      "\n",
      "             city state  ...  first_time_at_merchant  \\\n",
      "0  Moravian Falls    NC  ...                    True   \n",
      "1          Orient    WA  ...                    True   \n",
      "2      Malad City    ID  ...                    True   \n",
      "3         Boulder    MT  ...                    True   \n",
      "4        Doe Hill    VA  ...                    True   \n",
      "\n",
      "   dist_between_client_and_merch  trans_month  trans_day hour  year  \\\n",
      "0                      78.773821            1          1    0  2019   \n",
      "1                      30.216618            1          1    0  2019   \n",
      "2                     108.102912            1          1    0  2019   \n",
      "3                      95.685115            1          1    0  2019   \n",
      "4                      77.702395            1          1    0  2019   \n",
      "\n",
      "  times_shopped_at_merchant  times_shopped_at_merchant_year  \\\n",
      "0                         5                               4   \n",
      "1                         4                               4   \n",
      "2                         4                               3   \n",
      "3                         1                               1   \n",
      "4                         6                               1   \n",
      "\n",
      "   times_shopped_at_merchant_month  times_shopped_at_merchant_day  \n",
      "0                                2                              1  \n",
      "1                                1                              1  \n",
      "2                                1                              1  \n",
      "3                                1                              1  \n",
      "4                                1                              1  \n",
      "\n",
      "[5 rows x 35 columns]\n"
     ]
    }
   ],
   "source": [
    "# load first 5 rows of the dataset\n",
    "print(\"First 5 rows of the dataset:\")\n",
    "print(df.head())"
   ]
  },
  {
   "cell_type": "code",
   "execution_count": 6,
   "metadata": {},
   "outputs": [
    {
     "name": "stdout",
     "output_type": "stream",
     "text": [
      "<class 'pandas.core.frame.DataFrame'>\n",
      "RangeIndex: 1852394 entries, 0 to 1852393\n",
      "Data columns (total 35 columns):\n",
      " #   Column                           Dtype  \n",
      "---  ------                           -----  \n",
      " 0   cc_num                           int64  \n",
      " 1   merchant                         object \n",
      " 2   category                         object \n",
      " 3   amt                              float64\n",
      " 4   first                            object \n",
      " 5   last                             object \n",
      " 6   gender                           object \n",
      " 7   street                           object \n",
      " 8   city                             object \n",
      " 9   state                            object \n",
      " 10  zip                              int64  \n",
      " 11  lat                              float64\n",
      " 12  long                             float64\n",
      " 13  city_pop                         int64  \n",
      " 14  job                              object \n",
      " 15  dob                              object \n",
      " 16  trans_num                        object \n",
      " 17  unix_time                        int64  \n",
      " 18  merch_lat                        float64\n",
      " 19  merch_long                       float64\n",
      " 20  is_fraud                         int64  \n",
      " 21  amt_month                        float64\n",
      " 22  amt_year                         float64\n",
      " 23  amt_month_shopping_net_spend     float64\n",
      " 24  count_month_shopping_net         float64\n",
      " 25  first_time_at_merchant           bool   \n",
      " 26  dist_between_client_and_merch    float64\n",
      " 27  trans_month                      int64  \n",
      " 28  trans_day                        int64  \n",
      " 29  hour                             int64  \n",
      " 30  year                             int64  \n",
      " 31  times_shopped_at_merchant        int64  \n",
      " 32  times_shopped_at_merchant_year   int64  \n",
      " 33  times_shopped_at_merchant_month  int64  \n",
      " 34  times_shopped_at_merchant_day    int64  \n",
      "dtypes: bool(1), float64(10), int64(13), object(11)\n",
      "memory usage: 482.3+ MB\n",
      "None\n"
     ]
    }
   ],
   "source": [
    "print(df.info()) "
   ]
  },
  {
   "cell_type": "code",
   "execution_count": 7,
   "metadata": {},
   "outputs": [
    {
     "name": "stdout",
     "output_type": "stream",
     "text": [
      "             cc_num           amt           zip           lat          long  \\\n",
      "count  1.852394e+06  1.852394e+06  1.852394e+06  1.852394e+06  1.852394e+06   \n",
      "mean   4.173860e+17  7.006357e+01  4.881326e+04  3.853931e+01 -9.022783e+01   \n",
      "std    1.309115e+18  1.592540e+02  2.688185e+04  5.071470e+00  1.374789e+01   \n",
      "min    6.041621e+10  1.000000e+00  1.257000e+03  2.002710e+01 -1.656723e+02   \n",
      "25%    1.800429e+14  9.640000e+00  2.623700e+04  3.466890e+01 -9.679800e+01   \n",
      "50%    3.521417e+15  4.745000e+01  4.817400e+04  3.935430e+01 -8.747690e+01   \n",
      "75%    4.642255e+15  8.310000e+01  7.204200e+04  4.194040e+01 -8.015800e+01   \n",
      "max    4.992346e+18  2.894890e+04  9.992100e+04  6.669330e+01 -6.795030e+01   \n",
      "\n",
      "           city_pop     unix_time     merch_lat    merch_long      is_fraud  \\\n",
      "count  1.852394e+06  1.852394e+06  1.852394e+06  1.852394e+06  1.852394e+06   \n",
      "mean   8.864367e+04  1.358674e+09  3.853898e+01 -9.022794e+01  5.210015e-03   \n",
      "std    3.014876e+05  1.819508e+07  5.105604e+00  1.375969e+01  7.199217e-02   \n",
      "min    2.300000e+01  1.325376e+09  1.902742e+01 -1.666716e+02  0.000000e+00   \n",
      "25%    7.410000e+02  1.343017e+09  3.474012e+01 -9.689944e+01  0.000000e+00   \n",
      "50%    2.443000e+03  1.357089e+09  3.936890e+01 -8.744069e+01  0.000000e+00   \n",
      "75%    2.032800e+04  1.374581e+09  4.195626e+01 -8.024511e+01  0.000000e+00   \n",
      "max    2.906700e+06  1.388534e+09  6.751027e+01 -6.695090e+01  1.000000e+00   \n",
      "\n",
      "       ...  count_month_shopping_net  dist_between_client_and_merch  \\\n",
      "count  ...              1.852394e+06                   1.852394e+06   \n",
      "mean   ...              4.567241e+00                   7.610956e+01   \n",
      "std    ...              4.575502e+00                   2.909273e+01   \n",
      "min    ...              0.000000e+00                   2.227351e-02   \n",
      "25%    ...              1.000000e+00                   5.534198e+01   \n",
      "50%    ...              3.000000e+00                   7.824823e+01   \n",
      "75%    ...              7.000000e+00                   9.847204e+01   \n",
      "max    ...              4.800000e+01                   1.518682e+02   \n",
      "\n",
      "        trans_month     trans_day          hour          year  \\\n",
      "count  1.852394e+06  1.852394e+06  1.852394e+06  1.852394e+06   \n",
      "mean   7.152067e+00  2.967456e+00  1.280612e+01  2.019501e+03   \n",
      "std    3.424954e+00  2.197983e+00  6.815753e+00  4.999996e-01   \n",
      "min    1.000000e+00  0.000000e+00  0.000000e+00  2.019000e+03   \n",
      "25%    4.000000e+00  1.000000e+00  7.000000e+00  2.019000e+03   \n",
      "50%    7.000000e+00  3.000000e+00  1.400000e+01  2.020000e+03   \n",
      "75%    1.000000e+01  5.000000e+00  1.900000e+01  2.020000e+03   \n",
      "max    1.200000e+01  6.000000e+00  2.300000e+01  2.020000e+03   \n",
      "\n",
      "       times_shopped_at_merchant  times_shopped_at_merchant_year  \\\n",
      "count               1.852394e+06                    1.852394e+06   \n",
      "mean                5.298079e+00                    3.150459e+00   \n",
      "std                 3.094345e+00                    1.865369e+00   \n",
      "min                 1.000000e+00                    1.000000e+00   \n",
      "25%                 3.000000e+00                    2.000000e+00   \n",
      "50%                 5.000000e+00                    3.000000e+00   \n",
      "75%                 7.000000e+00                    4.000000e+00   \n",
      "max                 2.800000e+01                    1.700000e+01   \n",
      "\n",
      "       times_shopped_at_merchant_month  times_shopped_at_merchant_day  \n",
      "count                     1.852394e+06                   1.852394e+06  \n",
      "mean                      1.389109e+00                   1.655442e+00  \n",
      "std                       6.722559e-01                   9.025901e-01  \n",
      "min                       1.000000e+00                   1.000000e+00  \n",
      "25%                       1.000000e+00                   1.000000e+00  \n",
      "50%                       1.000000e+00                   1.000000e+00  \n",
      "75%                       2.000000e+00                   2.000000e+00  \n",
      "max                       9.000000e+00                   9.000000e+00  \n",
      "\n",
      "[8 rows x 23 columns]\n"
     ]
    }
   ],
   "source": [
    "print(df.describe())"
   ]
  },
  {
   "cell_type": "markdown",
   "metadata": {},
   "source": [
    "## Fraude vs no fraude"
   ]
  },
  {
   "cell_type": "code",
   "execution_count": 8,
   "metadata": {},
   "outputs": [
    {
     "data": {
      "image/png": "[encoded data removed]",
      "text/plain": [
       "<Figure size 640x480 with 1 Axes>"
      ]
     },
     "metadata": {},
     "output_type": "display_data"
    }
   ],
   "source": [
    "# Visualización de la distribución de la clase objetivo (fraude vs no fraude)\n",
    "df['is_fraud'].value_counts().plot(kind='bar')\n",
    "plt.title('Distribución de transacciones fraudulentas vs legítimas')\n",
    "plt.xlabel('Tipo de transacción')\n",
    "plt.ylabel('Cantidad')\n",
    "plt.show()"
   ]
  },
  {
   "cell_type": "code",
   "execution_count": 9,
   "metadata": {},
   "outputs": [
    {
     "data": {
      "image/png": "[encoded data removed]",
      "text/plain": [
       "<Figure size 640x480 with 1 Axes>"
      ]
     },
     "metadata": {},
     "output_type": "display_data"
    }
   ],
   "source": [
    "# Histograma de las transacciones monetarias\n",
    "df['amt'].hist(bins=50)\n",
    "plt.title('Distribución de la cantidad gastada por transacción')\n",
    "plt.xlabel('Monto gastado')\n",
    "plt.ylabel('Frecuencia')\n",
    "plt.show()"
   ]
  },
  {
   "cell_type": "code",
   "execution_count": 10,
   "metadata": {},
   "outputs": [
    {
     "data": {
      "image/png": "[encoded data removed]",
      "text/plain": [
       "<Figure size 640x480 with 1 Axes>"
      ]
     },
     "metadata": {},
     "output_type": "display_data"
    }
   ],
   "source": [
    "# Histograma de gasto mensual\n",
    "df['amt_month'].hist(bins=50)\n",
    "plt.title('Distribución de la cantidad gastada por mes')\n",
    "plt.xlabel('Monto mensual')\n",
    "plt.ylabel('Frecuencia')\n",
    "plt.show()"
   ]
  },
  {
   "cell_type": "code",
   "execution_count": 11,
   "metadata": {},
   "outputs": [
    {
     "name": "stdout",
     "output_type": "stream",
     "text": [
      "cc_num                             0\n",
      "merchant                           0\n",
      "category                           0\n",
      "amt                                0\n",
      "first                              0\n",
      "last                               0\n",
      "gender                             0\n",
      "street                             0\n",
      "city                               0\n",
      "state                              0\n",
      "zip                                0\n",
      "lat                                0\n",
      "long                               0\n",
      "city_pop                           0\n",
      "job                                0\n",
      "dob                                0\n",
      "trans_num                          0\n",
      "unix_time                          0\n",
      "merch_lat                          0\n",
      "merch_long                         0\n",
      "is_fraud                           0\n",
      "amt_month                          0\n",
      "amt_year                           0\n",
      "amt_month_shopping_net_spend       0\n",
      "count_month_shopping_net           0\n",
      "first_time_at_merchant             0\n",
      "dist_between_client_and_merch      0\n",
      "trans_month                        0\n",
      "trans_day                          0\n",
      "hour                               0\n",
      "year                               0\n",
      "times_shopped_at_merchant          0\n",
      "times_shopped_at_merchant_year     0\n",
      "times_shopped_at_merchant_month    0\n",
      "times_shopped_at_merchant_day      0\n",
      "dtype: int64\n"
     ]
    }
   ],
   "source": [
    "# Revisar valores nulos\n",
    "print(df.isnull().sum())"
   ]
  },
  {
   "cell_type": "code",
   "execution_count": 12,
   "metadata": {},
   "outputs": [
    {
     "data": {
      "image/png": "[encoded data removed]",
      "text/plain": [
       "<Figure size 1000x600 with 1 Axes>"
      ]
     },
     "metadata": {},
     "output_type": "display_data"
    }
   ],
   "source": [
    "# Mapa de dispersión de las ubicaciones (usuario vs comerciante)\n",
    "plt.figure(figsize=(10, 6))\n",
    "plt.scatter(df['long'], df['lat'], alpha=0.5, c='blue', label='Usuario')\n",
    "plt.scatter(df['merch_long'], df['merch_lat'], alpha=0.5, c='red', label='Comerciante')\n",
    "plt.title('Ubicación de los usuarios y comercios')\n",
    "plt.xlabel('Longitud')\n",
    "plt.ylabel('Latitud')\n",
    "plt.legend()\n",
    "plt.show()"
   ]
  },
  {
   "cell_type": "markdown",
   "metadata": {},
   "source": [
    "## Ingeniería de variables"
   ]
  },
  {
   "cell_type": "code",
   "execution_count": 13,
   "metadata": {},
   "outputs": [],
   "source": [
    "# Rango de monto\n",
    "df['amt_range'] = pd.cut(df['amt'], bins=[0, 50, 200, df['amt'].max()], labels=['bajo', 'medio', 'alto'])"
   ]
  },
  {
   "cell_type": "code",
   "execution_count": 14,
   "metadata": {},
   "outputs": [],
   "source": [
    "## Ratio de gasto del usuario\n",
    "df['amt_ratio_month'] = df['amt'] / (df['amt_month'] + 1)  #  para evitar división por cero\n",
    "df['amt_ratio_year'] = df['amt'] / (df['amt_year'] + 1)"
   ]
  },
  {
   "cell_type": "code",
   "execution_count": 15,
   "metadata": {},
   "outputs": [],
   "source": [
    "## Frecuencia normalizada con el comerciante\n",
    "df['merchant_freq_ratio'] = df['times_shopped_at_merchant'] / (df['times_shopped_at_merchant_year'] + 1)"
   ]
  },
  {
   "cell_type": "code",
   "execution_count": 16,
   "metadata": {},
   "outputs": [],
   "source": [
    "## Velocidad de compra  - intensidad en días\n",
    "df['merchant_intensity_day'] = df['times_shopped_at_merchant_day'] / (df['times_shopped_at_merchant'] + 1)"
   ]
  },
  {
   "cell_type": "code",
   "execution_count": 17,
   "metadata": {},
   "outputs": [],
   "source": [
    "## Distancia relativa\n",
    "df['dist_pop_norm'] = df['dist_between_client_and_merch'] / (df['city_pop'] + 1)"
   ]
  },
  {
   "cell_type": "code",
   "execution_count": 18,
   "metadata": {},
   "outputs": [],
   "source": [
    "# Contar transacciones totales y fraudulentas\n",
    "total_transacciones = len(df)\n",
    "transacciones_fraudulentas = df['is_fraud'].sum()"
   ]
  },
  {
   "cell_type": "code",
   "execution_count": 19,
   "metadata": {},
   "outputs": [
    {
     "name": "stdout",
     "output_type": "stream",
     "text": [
      "Total de transacciones: 1852394\n",
      "Transacciones fraudulentas: 9651\n",
      "Porcentaje de fraudes: 0.52%\n"
     ]
    }
   ],
   "source": [
    "print(f\"Total de transacciones: {total_transacciones}\")\n",
    "print(f\"Transacciones fraudulentas: {transacciones_fraudulentas}\")\n",
    "print(f\"Porcentaje de fraudes: {transacciones_fraudulentas/total_transacciones*100:.2f}%\")"
   ]
  },
  {
   "cell_type": "markdown",
   "metadata": {},
   "source": [
    "## Variables creadas\n",
    "\n",
    "1. amt_range: Buen enfoque para categorizar montos, útil para detectar patrones de gasto\n",
    "\n",
    "2. amt_ratio_month/year: Excelente para detectar anomalías en gastos\n",
    "\n",
    "3. merchant_freq_ratio: Muy bueno para identificar compras inusuales en comercios\n",
    "\n",
    "4. merchant_intensity_day: Detectar actividad inusual\n",
    "\n",
    "5. dist_pop_norm: Ubicaciones sospechosas"
   ]
  },
  {
   "cell_type": "markdown",
   "metadata": {},
   "source": [
    "## Implementación del modelo base"
   ]
  },
  {
   "cell_type": "code",
   "execution_count": 20,
   "metadata": {},
   "outputs": [],
   "source": [
    "# Preparación de datos\n",
    "X = df.drop(['is_fraud', 'cc_num', 'merchant', 'first', 'last', 'street', 'city', 'state', 'job', 'dob', 'trans_num'], axis=1)\n",
    "y = df['is_fraud']"
   ]
  },
  {
   "cell_type": "code",
   "execution_count": 21,
   "metadata": {},
   "outputs": [],
   "source": [
    "# Convertir variables categóricas\n",
    "X = pd.get_dummies(X, columns=['gender', 'amt_range'])"
   ]
  },
  {
   "cell_type": "code",
   "execution_count": 22,
   "metadata": {},
   "outputs": [],
   "source": [
    "# Dividir datos (usando diciembre 2020 como test)\n",
    "train = df[df['year'] != 2020 | (df['trans_month'] != 12)]\n",
    "test = df[(df['year'] == 2020) & (df['trans_month'] == 12)]"
   ]
  },
  {
   "cell_type": "code",
   "execution_count": 23,
   "metadata": {},
   "outputs": [],
   "source": [
    "X_train, X_test = X.loc[train.index], X.loc[test.index]\n",
    "y_train, y_test = y.loc[train.index], y.loc[test.index]"
   ]
  },
  {
   "cell_type": "code",
   "execution_count": 24,
   "metadata": {},
   "outputs": [
    {
     "name": "stdout",
     "output_type": "stream",
     "text": [
      "Tipos de datos antes de la conversión:\n",
      "category                            object\n",
      "amt                                float64\n",
      "zip                                  int64\n",
      "lat                                float64\n",
      "long                               float64\n",
      "city_pop                             int64\n",
      "unix_time                            int64\n",
      "merch_lat                          float64\n",
      "merch_long                         float64\n",
      "amt_month                          float64\n",
      "amt_year                           float64\n",
      "amt_month_shopping_net_spend       float64\n",
      "count_month_shopping_net           float64\n",
      "first_time_at_merchant                bool\n",
      "dist_between_client_and_merch      float64\n",
      "trans_month                          int64\n",
      "trans_day                            int64\n",
      "hour                                 int64\n",
      "year                                 int64\n",
      "times_shopped_at_merchant            int64\n",
      "times_shopped_at_merchant_year       int64\n",
      "times_shopped_at_merchant_month      int64\n",
      "times_shopped_at_merchant_day        int64\n",
      "amt_ratio_month                    float64\n",
      "amt_ratio_year                     float64\n",
      "merchant_freq_ratio                float64\n",
      "merchant_intensity_day             float64\n",
      "dist_pop_norm                      float64\n",
      "gender_F                              bool\n",
      "gender_M                              bool\n",
      "amt_range_bajo                        bool\n",
      "amt_range_medio                       bool\n",
      "amt_range_alto                        bool\n",
      "dtype: object\n"
     ]
    }
   ],
   "source": [
    "print(\"Tipos de datos antes de la conversión:\")\n",
    "print(X_train.dtypes)"
   ]
  },
  {
   "cell_type": "code",
   "execution_count": 25,
   "metadata": {},
   "outputs": [],
   "source": [
    "categorical_cols = X_train.select_dtypes(include=['category', 'object']).columns"
   ]
  },
  {
   "cell_type": "code",
   "execution_count": 26,
   "metadata": {},
   "outputs": [],
   "source": [
    "from sklearn.preprocessing import LabelEncoder\n",
    "for col in categorical_cols:\n",
    "     le = LabelEncoder()\n",
    "     X_train[col] = le.fit_transform(X_train[col].astype(str))\n",
    "     X_test[col] = le.transform(X_test[col].astype(str))"
   ]
  },
  {
   "cell_type": "code",
   "execution_count": 27,
   "metadata": {},
   "outputs": [],
   "source": [
    "bool_cols = X_train.select_dtypes(include=['bool']).columns\n",
    "for col in bool_cols:\n",
    "    X_train[col] = X_train[col].astype(int)\n",
    "    X_test[col] = X_test[col].astype(int)"
   ]
  },
  {
   "cell_type": "code",
   "execution_count": 28,
   "metadata": {},
   "outputs": [],
   "source": [
    "missing_cols = set(X_train.columns) - set(X_test.columns)\n",
    "for col in missing_cols:\n",
    "    X_test[col] = 0\n",
    "X_test = X_test[X_train.columns]"
   ]
  },
  {
   "cell_type": "code",
   "execution_count": 29,
   "metadata": {},
   "outputs": [
    {
     "name": "stdout",
     "output_type": "stream",
     "text": [
      "\n",
      "Tipos de datos después de la conversión:\n",
      "category                             int32\n",
      "amt                                float64\n",
      "zip                                  int64\n",
      "lat                                float64\n",
      "long                               float64\n",
      "city_pop                             int64\n",
      "unix_time                            int64\n",
      "merch_lat                          float64\n",
      "merch_long                         float64\n",
      "amt_month                          float64\n",
      "amt_year                           float64\n",
      "amt_month_shopping_net_spend       float64\n",
      "count_month_shopping_net           float64\n",
      "first_time_at_merchant               int32\n",
      "dist_between_client_and_merch      float64\n",
      "trans_month                          int64\n",
      "trans_day                            int64\n",
      "hour                                 int64\n",
      "year                                 int64\n",
      "times_shopped_at_merchant            int64\n",
      "times_shopped_at_merchant_year       int64\n",
      "times_shopped_at_merchant_month      int64\n",
      "times_shopped_at_merchant_day        int64\n",
      "amt_ratio_month                    float64\n",
      "amt_ratio_year                     float64\n",
      "merchant_freq_ratio                float64\n",
      "merchant_intensity_day             float64\n",
      "dist_pop_norm                      float64\n",
      "gender_F                             int32\n",
      "gender_M                             int32\n",
      "amt_range_bajo                       int32\n",
      "amt_range_medio                      int32\n",
      "amt_range_alto                       int32\n",
      "dtype: object\n"
     ]
    }
   ],
   "source": [
    "print(\"\\nTipos de datos después de la conversión:\")\n",
    "print(X_train.dtypes)"
   ]
  },
  {
   "cell_type": "code",
   "execution_count": 30,
   "metadata": {},
   "outputs": [
    {
     "name": "stdout",
     "output_type": "stream",
     "text": [
      "[LightGBM] [Info] Number of positive: 9651, number of negative: 1842743\n",
      "[LightGBM] [Info] Auto-choosing row-wise multi-threading, the overhead of testing was 0.015061 seconds.\n",
      "You can set `force_row_wise=true` to remove the overhead.\n",
      "And if memory is not enough, you can set `force_col_wise=true`.\n",
      "[LightGBM] [Info] Total Bins 4203\n",
      "[LightGBM] [Info] Number of data points in the train set: 1852394, number of used features: 33\n",
      "[LightGBM] [Info] [binary:BoostFromScore]: pavg=0.005210 -> initscore=-5.251949\n",
      "[LightGBM] [Info] Start training from score -5.251949\n"
     ]
    },
    {
     "data": {
      "text/html": [
       "<style>#sk-container-id-1 {\n",
       "  /* Definition of color scheme common for light and dark mode */\n",
       "  --sklearn-color-text: black;\n",
       "  --sklearn-color-line: gray;\n",
       "  /* Definition of color scheme for unfitted estimators */\n",
       "  --sklearn-color-unfitted-level-0: #fff5e6;\n",
       "  --sklearn-color-unfitted-level-1: #f6e4d2;\n",
       "  --sklearn-color-unfitted-level-2: #ffe0b3;\n",
       "  --sklearn-color-unfitted-level-3: chocolate;\n",
       "  /* Definition of color scheme for fitted estimators */\n",
       "  --sklearn-color-fitted-level-0: #f0f8ff;\n",
       "  --sklearn-color-fitted-level-1: #d4ebff;\n",
       "  --sklearn-color-fitted-level-2: #b3dbfd;\n",
       "  --sklearn-color-fitted-level-3: cornflowerblue;\n",
       "\n",
       "  /* Specific color for light theme */\n",
       "  --sklearn-color-text-on-default-background: var(--sg-text-color, var(--theme-code-foreground, var(--jp-content-font-color1, black)));\n",
       "  --sklearn-color-background: var(--sg-background-color, var(--theme-background, var(--jp-layout-color0, white)));\n",
       "  --sklearn-color-border-box: var(--sg-text-color, var(--theme-code-foreground, var(--jp-content-font-color1, black)));\n",
       "  --sklearn-color-icon: #696969;\n",
       "\n",
       "  @media (prefers-color-scheme: dark) {\n",
       "    /* Redefinition of color scheme for dark theme */\n",
       "    --sklearn-color-text-on-default-background: var(--sg-text-color, var(--theme-code-foreground, var(--jp-content-font-color1, white)));\n",
       "    --sklearn-color-background: var(--sg-background-color, var(--theme-background, var(--jp-layout-color0, #111)));\n",
       "    --sklearn-color-border-box: var(--sg-text-color, var(--theme-code-foreground, var(--jp-content-font-color1, white)));\n",
       "    --sklearn-color-icon: #878787;\n",
       "  }\n",
       "}\n",
       "\n",
       "#sk-container-id-1 {\n",
       "  color: var(--sklearn-color-text);\n",
       "}\n",
       "\n",
       "#sk-container-id-1 pre {\n",
       "  padding: 0;\n",
       "}\n",
       "\n",
       "#sk-container-id-1 input.sk-hidden--visually {\n",
       "  border: 0;\n",
       "  clip: rect(1px 1px 1px 1px);\n",
       "  clip: rect(1px, 1px, 1px, 1px);\n",
       "  height: 1px;\n",
       "  margin: -1px;\n",
       "  overflow: hidden;\n",
       "  padding: 0;\n",
       "  position: absolute;\n",
       "  width: 1px;\n",
       "}\n",
       "\n",
       "#sk-container-id-1 div.sk-dashed-wrapped {\n",
       "  border: 1px dashed var(--sklearn-color-line);\n",
       "  margin: 0 0.4em 0.5em 0.4em;\n",
       "  box-sizing: border-box;\n",
       "  padding-bottom: 0.4em;\n",
       "  background-color: var(--sklearn-color-background);\n",
       "}\n",
       "\n",
       "#sk-container-id-1 div.sk-container {\n",
       "  /* jupyter's `normalize.less` sets `[hidden] { display: none; }`\n",
       "     but bootstrap.min.css set `[hidden] { display: none !important; }`\n",
       "     so we also need the `!important` here to be able to override the\n",
       "     default hidden behavior on the sphinx rendered scikit-learn.org.\n",
       "     See: https://github.com/scikit-learn/scikit-learn/issues/21755 */\n",
       "  display: inline-block !important;\n",
       "  position: relative;\n",
       "}\n",
       "\n",
       "#sk-container-id-1 div.sk-text-repr-fallback {\n",
       "  display: none;\n",
       "}\n",
       "\n",
       "div.sk-parallel-item,\n",
       "div.sk-serial,\n",
       "div.sk-item {\n",
       "  /* draw centered vertical line to link estimators */\n",
       "  background-image: linear-gradient(var(--sklearn-color-text-on-default-background), var(--sklearn-color-text-on-default-background));\n",
       "  background-size: 2px 100%;\n",
       "  background-repeat: no-repeat;\n",
       "  background-position: center center;\n",
       "}\n",
       "\n",
       "/* Parallel-specific style estimator block */\n",
       "\n",
       "#sk-container-id-1 div.sk-parallel-item::after {\n",
       "  content: \"\";\n",
       "  width: 100%;\n",
       "  border-bottom: 2px solid var(--sklearn-color-text-on-default-background);\n",
       "  flex-grow: 1;\n",
       "}\n",
       "\n",
       "#sk-container-id-1 div.sk-parallel {\n",
       "  display: flex;\n",
       "  align-items: stretch;\n",
       "  justify-content: center;\n",
       "  background-color: var(--sklearn-color-background);\n",
       "  position: relative;\n",
       "}\n",
       "\n",
       "#sk-container-id-1 div.sk-parallel-item {\n",
       "  display: flex;\n",
       "  flex-direction: column;\n",
       "}\n",
       "\n",
       "#sk-container-id-1 div.sk-parallel-item:first-child::after {\n",
       "  align-self: flex-end;\n",
       "  width: 50%;\n",
       "}\n",
       "\n",
       "#sk-container-id-1 div.sk-parallel-item:last-child::after {\n",
       "  align-self: flex-start;\n",
       "  width: 50%;\n",
       "}\n",
       "\n",
       "#sk-container-id-1 div.sk-parallel-item:only-child::after {\n",
       "  width: 0;\n",
       "}\n",
       "\n",
       "/* Serial-specific style estimator block */\n",
       "\n",
       "#sk-container-id-1 div.sk-serial {\n",
       "  display: flex;\n",
       "  flex-direction: column;\n",
       "  align-items: center;\n",
       "  background-color: var(--sklearn-color-background);\n",
       "  padding-right: 1em;\n",
       "  padding-left: 1em;\n",
       "}\n",
       "\n",
       "\n",
       "/* Toggleable style: style used for estimator/Pipeline/ColumnTransformer box that is\n",
       "clickable and can be expanded/collapsed.\n",
       "- Pipeline and ColumnTransformer use this feature and define the default style\n",
       "- Estimators will overwrite some part of the style using the `sk-estimator` class\n",
       "*/\n",
       "\n",
       "/* Pipeline and ColumnTransformer style (default) */\n",
       "\n",
       "#sk-container-id-1 div.sk-toggleable {\n",
       "  /* Default theme specific background. It is overwritten whether we have a\n",
       "  specific estimator or a Pipeline/ColumnTransformer */\n",
       "  background-color: var(--sklearn-color-background);\n",
       "}\n",
       "\n",
       "/* Toggleable label */\n",
       "#sk-container-id-1 label.sk-toggleable__label {\n",
       "  cursor: pointer;\n",
       "  display: block;\n",
       "  width: 100%;\n",
       "  margin-bottom: 0;\n",
       "  padding: 0.5em;\n",
       "  box-sizing: border-box;\n",
       "  text-align: center;\n",
       "}\n",
       "\n",
       "#sk-container-id-1 label.sk-toggleable__label-arrow:before {\n",
       "  /* Arrow on the left of the label */\n",
       "  content: \"▸\";\n",
       "  float: left;\n",
       "  margin-right: 0.25em;\n",
       "  color: var(--sklearn-color-icon);\n",
       "}\n",
       "\n",
       "#sk-container-id-1 label.sk-toggleable__label-arrow:hover:before {\n",
       "  color: var(--sklearn-color-text);\n",
       "}\n",
       "\n",
       "/* Toggleable content - dropdown */\n",
       "\n",
       "#sk-container-id-1 div.sk-toggleable__content {\n",
       "  max-height: 0;\n",
       "  max-width: 0;\n",
       "  overflow: hidden;\n",
       "  text-align: left;\n",
       "  /* unfitted */\n",
       "  background-color: var(--sklearn-color-unfitted-level-0);\n",
       "}\n",
       "\n",
       "#sk-container-id-1 div.sk-toggleable__content.fitted {\n",
       "  /* fitted */\n",
       "  background-color: var(--sklearn-color-fitted-level-0);\n",
       "}\n",
       "\n",
       "#sk-container-id-1 div.sk-toggleable__content pre {\n",
       "  margin: 0.2em;\n",
       "  border-radius: 0.25em;\n",
       "  color: var(--sklearn-color-text);\n",
       "  /* unfitted */\n",
       "  background-color: var(--sklearn-color-unfitted-level-0);\n",
       "}\n",
       "\n",
       "#sk-container-id-1 div.sk-toggleable__content.fitted pre {\n",
       "  /* unfitted */\n",
       "  background-color: var(--sklearn-color-fitted-level-0);\n",
       "}\n",
       "\n",
       "#sk-container-id-1 input.sk-toggleable__control:checked~div.sk-toggleable__content {\n",
       "  /* Expand drop-down */\n",
       "  max-height: 200px;\n",
       "  max-width: 100%;\n",
       "  overflow: auto;\n",
       "}\n",
       "\n",
       "#sk-container-id-1 input.sk-toggleable__control:checked~label.sk-toggleable__label-arrow:before {\n",
       "  content: \"▾\";\n",
       "}\n",
       "\n",
       "/* Pipeline/ColumnTransformer-specific style */\n",
       "\n",
       "#sk-container-id-1 div.sk-label input.sk-toggleable__control:checked~label.sk-toggleable__label {\n",
       "  color: var(--sklearn-color-text);\n",
       "  background-color: var(--sklearn-color-unfitted-level-2);\n",
       "}\n",
       "\n",
       "#sk-container-id-1 div.sk-label.fitted input.sk-toggleable__control:checked~label.sk-toggleable__label {\n",
       "  background-color: var(--sklearn-color-fitted-level-2);\n",
       "}\n",
       "\n",
       "/* Estimator-specific style */\n",
       "\n",
       "/* Colorize estimator box */\n",
       "#sk-container-id-1 div.sk-estimator input.sk-toggleable__control:checked~label.sk-toggleable__label {\n",
       "  /* unfitted */\n",
       "  background-color: var(--sklearn-color-unfitted-level-2);\n",
       "}\n",
       "\n",
       "#sk-container-id-1 div.sk-estimator.fitted input.sk-toggleable__control:checked~label.sk-toggleable__label {\n",
       "  /* fitted */\n",
       "  background-color: var(--sklearn-color-fitted-level-2);\n",
       "}\n",
       "\n",
       "#sk-container-id-1 div.sk-label label.sk-toggleable__label,\n",
       "#sk-container-id-1 div.sk-label label {\n",
       "  /* The background is the default theme color */\n",
       "  color: var(--sklearn-color-text-on-default-background);\n",
       "}\n",
       "\n",
       "/* On hover, darken the color of the background */\n",
       "#sk-container-id-1 div.sk-label:hover label.sk-toggleable__label {\n",
       "  color: var(--sklearn-color-text);\n",
       "  background-color: var(--sklearn-color-unfitted-level-2);\n",
       "}\n",
       "\n",
       "/* Label box, darken color on hover, fitted */\n",
       "#sk-container-id-1 div.sk-label.fitted:hover label.sk-toggleable__label.fitted {\n",
       "  color: var(--sklearn-color-text);\n",
       "  background-color: var(--sklearn-color-fitted-level-2);\n",
       "}\n",
       "\n",
       "/* Estimator label */\n",
       "\n",
       "#sk-container-id-1 div.sk-label label {\n",
       "  font-family: monospace;\n",
       "  font-weight: bold;\n",
       "  display: inline-block;\n",
       "  line-height: 1.2em;\n",
       "}\n",
       "\n",
       "#sk-container-id-1 div.sk-label-container {\n",
       "  text-align: center;\n",
       "}\n",
       "\n",
       "/* Estimator-specific */\n",
       "#sk-container-id-1 div.sk-estimator {\n",
       "  font-family: monospace;\n",
       "  border: 1px dotted var(--sklearn-color-border-box);\n",
       "  border-radius: 0.25em;\n",
       "  box-sizing: border-box;\n",
       "  margin-bottom: 0.5em;\n",
       "  /* unfitted */\n",
       "  background-color: var(--sklearn-color-unfitted-level-0);\n",
       "}\n",
       "\n",
       "#sk-container-id-1 div.sk-estimator.fitted {\n",
       "  /* fitted */\n",
       "  background-color: var(--sklearn-color-fitted-level-0);\n",
       "}\n",
       "\n",
       "/* on hover */\n",
       "#sk-container-id-1 div.sk-estimator:hover {\n",
       "  /* unfitted */\n",
       "  background-color: var(--sklearn-color-unfitted-level-2);\n",
       "}\n",
       "\n",
       "#sk-container-id-1 div.sk-estimator.fitted:hover {\n",
       "  /* fitted */\n",
       "  background-color: var(--sklearn-color-fitted-level-2);\n",
       "}\n",
       "\n",
       "/* Specification for estimator info (e.g. \"i\" and \"?\") */\n",
       "\n",
       "/* Common style for \"i\" and \"?\" */\n",
       "\n",
       ".sk-estimator-doc-link,\n",
       "a:link.sk-estimator-doc-link,\n",
       "a:visited.sk-estimator-doc-link {\n",
       "  float: right;\n",
       "  font-size: smaller;\n",
       "  line-height: 1em;\n",
       "  font-family: monospace;\n",
       "  background-color: var(--sklearn-color-background);\n",
       "  border-radius: 1em;\n",
       "  height: 1em;\n",
       "  width: 1em;\n",
       "  text-decoration: none !important;\n",
       "  margin-left: 1ex;\n",
       "  /* unfitted */\n",
       "  border: var(--sklearn-color-unfitted-level-1) 1pt solid;\n",
       "  color: var(--sklearn-color-unfitted-level-1);\n",
       "}\n",
       "\n",
       ".sk-estimator-doc-link.fitted,\n",
       "a:link.sk-estimator-doc-link.fitted,\n",
       "a:visited.sk-estimator-doc-link.fitted {\n",
       "  /* fitted */\n",
       "  border: var(--sklearn-color-fitted-level-1) 1pt solid;\n",
       "  color: var(--sklearn-color-fitted-level-1);\n",
       "}\n",
       "\n",
       "/* On hover */\n",
       "div.sk-estimator:hover .sk-estimator-doc-link:hover,\n",
       ".sk-estimator-doc-link:hover,\n",
       "div.sk-label-container:hover .sk-estimator-doc-link:hover,\n",
       ".sk-estimator-doc-link:hover {\n",
       "  /* unfitted */\n",
       "  background-color: var(--sklearn-color-unfitted-level-3);\n",
       "  color: var(--sklearn-color-background);\n",
       "  text-decoration: none;\n",
       "}\n",
       "\n",
       "div.sk-estimator.fitted:hover .sk-estimator-doc-link.fitted:hover,\n",
       ".sk-estimator-doc-link.fitted:hover,\n",
       "div.sk-label-container:hover .sk-estimator-doc-link.fitted:hover,\n",
       ".sk-estimator-doc-link.fitted:hover {\n",
       "  /* fitted */\n",
       "  background-color: var(--sklearn-color-fitted-level-3);\n",
       "  color: var(--sklearn-color-background);\n",
       "  text-decoration: none;\n",
       "}\n",
       "\n",
       "/* Span, style for the box shown on hovering the info icon */\n",
       ".sk-estimator-doc-link span {\n",
       "  display: none;\n",
       "  z-index: 9999;\n",
       "  position: relative;\n",
       "  font-weight: normal;\n",
       "  right: .2ex;\n",
       "  padding: .5ex;\n",
       "  margin: .5ex;\n",
       "  width: min-content;\n",
       "  min-width: 20ex;\n",
       "  max-width: 50ex;\n",
       "  color: var(--sklearn-color-text);\n",
       "  box-shadow: 2pt 2pt 4pt #999;\n",
       "  /* unfitted */\n",
       "  background: var(--sklearn-color-unfitted-level-0);\n",
       "  border: .5pt solid var(--sklearn-color-unfitted-level-3);\n",
       "}\n",
       "\n",
       ".sk-estimator-doc-link.fitted span {\n",
       "  /* fitted */\n",
       "  background: var(--sklearn-color-fitted-level-0);\n",
       "  border: var(--sklearn-color-fitted-level-3);\n",
       "}\n",
       "\n",
       ".sk-estimator-doc-link:hover span {\n",
       "  display: block;\n",
       "}\n",
       "\n",
       "/* \"?\"-specific style due to the `<a>` HTML tag */\n",
       "\n",
       "#sk-container-id-1 a.estimator_doc_link {\n",
       "  float: right;\n",
       "  font-size: 1rem;\n",
       "  line-height: 1em;\n",
       "  font-family: monospace;\n",
       "  background-color: var(--sklearn-color-background);\n",
       "  border-radius: 1rem;\n",
       "  height: 1rem;\n",
       "  width: 1rem;\n",
       "  text-decoration: none;\n",
       "  /* unfitted */\n",
       "  color: var(--sklearn-color-unfitted-level-1);\n",
       "  border: var(--sklearn-color-unfitted-level-1) 1pt solid;\n",
       "}\n",
       "\n",
       "#sk-container-id-1 a.estimator_doc_link.fitted {\n",
       "  /* fitted */\n",
       "  border: var(--sklearn-color-fitted-level-1) 1pt solid;\n",
       "  color: var(--sklearn-color-fitted-level-1);\n",
       "}\n",
       "\n",
       "/* On hover */\n",
       "#sk-container-id-1 a.estimator_doc_link:hover {\n",
       "  /* unfitted */\n",
       "  background-color: var(--sklearn-color-unfitted-level-3);\n",
       "  color: var(--sklearn-color-background);\n",
       "  text-decoration: none;\n",
       "}\n",
       "\n",
       "#sk-container-id-1 a.estimator_doc_link.fitted:hover {\n",
       "  /* fitted */\n",
       "  background-color: var(--sklearn-color-fitted-level-3);\n",
       "}\n",
       "</style><div id=\"sk-container-id-1\" class=\"sk-top-container\"><div class=\"sk-text-repr-fallback\"><pre>LGBMClassifier(random_state=42)</pre><b>In a Jupyter environment, please rerun this cell to show the HTML representation or trust the notebook. <br />On GitHub, the HTML representation is unable to render, please try loading this page with nbviewer.org.</b></div><div class=\"sk-container\" hidden><div class=\"sk-item\"><div class=\"sk-estimator fitted sk-toggleable\"><input class=\"sk-toggleable__control sk-hidden--visually\" id=\"sk-estimator-id-1\" type=\"checkbox\" checked><label for=\"sk-estimator-id-1\" class=\"sk-toggleable__label fitted sk-toggleable__label-arrow fitted\">&nbsp;LGBMClassifier<span class=\"sk-estimator-doc-link fitted\">i<span>Fitted</span></span></label><div class=\"sk-toggleable__content fitted\"><pre>LGBMClassifier(random_state=42)</pre></div> </div></div></div></div>"
      ],
      "text/plain": [
       "LGBMClassifier(random_state=42)"
      ]
     },
     "execution_count": 30,
     "metadata": {},
     "output_type": "execute_result"
    }
   ],
   "source": [
    "# Modelo base\n",
    "model = lgb.LGBMClassifier(random_state=42)\n",
    "model.fit(X_train, y_train)"
   ]
  },
  {
   "cell_type": "code",
   "execution_count": 31,
   "metadata": {},
   "outputs": [
    {
     "name": "stdout",
     "output_type": "stream",
     "text": [
      "              precision    recall  f1-score   support\n",
      "\n",
      "           0       1.00      1.00      1.00    139280\n",
      "           1       0.66      0.64      0.65       258\n",
      "\n",
      "    accuracy                           1.00    139538\n",
      "   macro avg       0.83      0.82      0.82    139538\n",
      "weighted avg       1.00      1.00      1.00    139538\n",
      "\n",
      "AUC-ROC: 0.966585713236178\n"
     ]
    }
   ],
   "source": [
    "# Evaluación\n",
    "y_pred = model.predict(X_test)\n",
    "print(classification_report(y_test, y_pred))\n",
    "print(f\"AUC-ROC: {roc_auc_score(y_test, model.predict_proba(X_test)[:,1])}\")"
   ]
  },
  {
   "cell_type": "markdown",
   "metadata": {},
   "source": [
    "## Métricas personalizadas para reducir falsos positivos"
   ]
  },
  {
   "cell_type": "markdown",
   "metadata": {},
   "source": [
    "### Custom Fraud Score"
   ]
  },
  {
   "cell_type": "code",
   "execution_count": 32,
   "metadata": {},
   "outputs": [],
   "source": [
    "def custom_fraud_score(y_true, y_pred):\n",
    "    tp = sum((y_pred == 1) & (y_true == 1))\n",
    "    fp = sum((y_pred == 1) & (y_true == 0))\n",
    "    return tp / (tp + fp + 1e-6)  # Evitar división por cero"
   ]
  },
  {
   "cell_type": "markdown",
   "metadata": {},
   "source": [
    "### Penalización de FPs en plataformas digitales"
   ]
  },
  {
   "cell_type": "code",
   "execution_count": 33,
   "metadata": {},
   "outputs": [],
   "source": [
    "def digital_fp_score(y_true, y_pred, X_test):\n",
    "    digital_mask = X_test['category'].isin(['misc_net', 'shopping_net'])  # Ajustar según tus categorías\n",
    "    tp = sum((y_pred == 1) & (y_true == 1) & digital_mask)\n",
    "    fp = sum((y_pred == 1) & (y_true == 0) & digital_mask)\n",
    "    return tp / (tp + fp + 1e-6)"
   ]
  },
  {
   "cell_type": "markdown",
   "metadata": {},
   "source": [
    "### Métrica balanceada con énfasis en digital"
   ]
  },
  {
   "cell_type": "code",
   "execution_count": 34,
   "metadata": {},
   "outputs": [],
   "source": [
    "def balanced_digital_score(y_true, y_pred, X_test):\n",
    "    digital_mask = X_test['category'].isin(['misc_net', 'shopping_net'])\n",
    "    tp_digital = sum((y_pred == 1) & (y_true == 1) & digital_mask)\n",
    "    fp_digital = sum((y_pred == 1) & (y_true == 0) & digital_mask)\n",
    "    \n",
    "    tp_other = sum((y_pred == 1) & (y_true == 1) & ~digital_mask)\n",
    "    fp_other = sum((y_pred == 1) & (y_true == 0) & ~digital_mask)\n",
    "    \n",
    "    score_digital = tp_digital / (tp_digital + fp_digital + 1e-6)\n",
    "    score_other = tp_other / (tp_other + fp_other + 1e-6)\n",
    "    \n",
    "    return 0.7 * score_digital + 0.3 * score_other "
   ]
  },
  {
   "cell_type": "markdown",
   "metadata": {},
   "source": [
    "## Implementación en LightGBM"
   ]
  },
  {
   "cell_type": "code",
   "execution_count": 35,
   "metadata": {},
   "outputs": [],
   "source": [
    "# Convertir datos al formato Dataset de LightGBM\n",
    "train_data = lgb.Dataset(X_train, label=y_train)\n",
    "valid_data = lgb.Dataset(X_test, label=y_test, reference=train_data)"
   ]
  },
  {
   "cell_type": "code",
   "execution_count": 36,
   "metadata": {},
   "outputs": [],
   "source": [
    "# Definir la métrica personalizada\n",
    "def custom_fraud_score(y_pred, data):\n",
    "    y_true = data.get_label()\n",
    "    y_pred_bin = (y_pred > 0.5).astype(int)\n",
    "    tp = np.sum((y_true == 1) & (y_pred_bin == 1))\n",
    "    fp = np.sum((y_true == 0) & (y_pred_bin == 1))\n",
    "    score = tp / (tp + fp + 1e-6)\n",
    "    return 'custom_fraud_score', score, True"
   ]
  },
  {
   "cell_type": "code",
   "execution_count": 37,
   "metadata": {},
   "outputs": [],
   "source": [
    "# Parámetros del modelo\n",
    "params = {\n",
    "    'objective': 'binary',\n",
    "    'metric': 'custom',\n",
    "    'random_state': 42,\n",
    "    'learning_rate': 0.05,\n",
    "    'num_leaves': 31,\n",
    "    'verbose': -1\n",
    "}"
   ]
  },
  {
   "cell_type": "code",
   "execution_count": 38,
   "metadata": {},
   "outputs": [
    {
     "name": "stdout",
     "output_type": "stream",
     "text": [
      "Training until validation scores don't improve for 50 rounds\n",
      "[50]\tvalid_0's custom_fraud_score: 0.80543\n",
      "Early stopping, best iteration is:\n",
      "[1]\tvalid_0's custom_fraud_score: 0.840237\n"
     ]
    }
   ],
   "source": [
    "# Entrenar con métrica personalizada\n",
    "model = lgb.train(\n",
    "    params,\n",
    "    train_data,\n",
    "    num_boost_round=1000,\n",
    "    valid_sets=[valid_data],\n",
    "    feval=custom_fraud_score,\n",
    "    callbacks=[\n",
    "        lgb.early_stopping(stopping_rounds=50),\n",
    "        lgb.log_evaluation(50)\n",
    "    ]\n",
    ")"
   ]
  },
  {
   "cell_type": "code",
   "execution_count": 39,
   "metadata": {},
   "outputs": [],
   "source": [
    "# Para hacer predicciones\n",
    "y_pred = model.predict(X_test.values)\n",
    "y_pred_bin = (y_pred > 0.5).astype(int)"
   ]
  },
  {
   "cell_type": "markdown",
   "metadata": {},
   "source": [
    "## Evaluación del Modelo"
   ]
  },
  {
   "cell_type": "code",
   "execution_count": 40,
   "metadata": {},
   "outputs": [
    {
     "name": "stdout",
     "output_type": "stream",
     "text": [
      "Classification Report:\n",
      "              precision    recall  f1-score   support\n",
      "\n",
      "           0       1.00      1.00      1.00    139280\n",
      "           1       0.84      0.55      0.67       258\n",
      "\n",
      "    accuracy                           1.00    139538\n",
      "   macro avg       0.92      0.78      0.83    139538\n",
      "weighted avg       1.00      1.00      1.00    139538\n",
      "\n"
     ]
    }
   ],
   "source": [
    "# Métricas de clasificación estándar\n",
    "print(\"Classification Report:\")\n",
    "print(classification_report(y_test, y_pred_bin))"
   ]
  },
  {
   "cell_type": "code",
   "execution_count": 41,
   "metadata": {},
   "outputs": [
    {
     "name": "stdout",
     "output_type": "stream",
     "text": [
      "\n",
      "Confusion Matrix:\n",
      "[[139253     27]\n",
      " [   116    142]]\n"
     ]
    }
   ],
   "source": [
    "# Matriz de confusión\n",
    "print(\"\\nConfusion Matrix:\")\n",
    "print(confusion_matrix(y_test, y_pred_bin))"
   ]
  },
  {
   "cell_type": "code",
   "execution_count": 42,
   "metadata": {},
   "outputs": [
    {
     "name": "stdout",
     "output_type": "stream",
     "text": [
      "\n",
      "AUC-ROC Score: 0.8588714691057888\n"
     ]
    }
   ],
   "source": [
    "# AUC-ROC\n",
    "print(f\"\\nAUC-ROC Score: {roc_auc_score(y_test, y_pred)}\")"
   ]
  },
  {
   "cell_type": "code",
   "execution_count": 43,
   "metadata": {},
   "outputs": [
    {
     "data": {
      "image/png": "[encoded data removed]",
      "text/plain": [
       "<Figure size 800x600 with 1 Axes>"
      ]
     },
     "metadata": {},
     "output_type": "display_data"
    }
   ],
   "source": [
    "# Gráfico Precision-Recall\n",
    "precision, recall, thresholds = precision_recall_curve(y_test, y_pred)\n",
    "plt.figure(figsize=(8, 6))\n",
    "plt.plot(recall, precision, marker='.')\n",
    "plt.xlabel('Recall')\n",
    "plt.ylabel('Precision')\n",
    "plt.title('Precision-Recall Curve')\n",
    "plt.show()"
   ]
  },
  {
   "cell_type": "markdown",
   "metadata": {},
   "source": [
    "## Métricas específicas para Fraude"
   ]
  },
  {
   "cell_type": "code",
   "execution_count": 44,
   "metadata": {},
   "outputs": [
    {
     "name": "stdout",
     "output_type": "stream",
     "text": [
      "\n",
      "False Positive per True Positive Ratio: 0.19\n"
     ]
    }
   ],
   "source": [
    "# Ratio de Falsos Positivos por Verdadero Positivo (FP/TP)\n",
    "tn, fp, fn, tp = confusion_matrix(y_test, y_pred_bin).ravel()\n",
    "fp_ratio = fp / tp if tp > 0 else float('inf')\n",
    "print(f\"\\nFalse Positive per True Positive Ratio: {fp_ratio:.2f}\")"
   ]
  },
  {
   "cell_type": "code",
   "execution_count": 45,
   "metadata": {},
   "outputs": [
    {
     "name": "stdout",
     "output_type": "stream",
     "text": [
      "Detection Rate (Recall): 55.04%\n"
     ]
    }
   ],
   "source": [
    "# Detection Rate - Recall\n",
    "detection_rate = tp / (tp + fn)\n",
    "print(f\"Detection Rate (Recall): {detection_rate:.2%}\")"
   ]
  },
  {
   "cell_type": "code",
   "execution_count": 46,
   "metadata": {},
   "outputs": [
    {
     "name": "stdout",
     "output_type": "stream",
     "text": [
      "Precision for Fraud Class: 84.02%\n"
     ]
    }
   ],
   "source": [
    "# Precision\n",
    "fraud_precision = tp / (tp + fp)\n",
    "print(f\"Precision for Fraud Class: {fraud_precision:.2%}\")"
   ]
  },
  {
   "cell_type": "markdown",
   "metadata": {},
   "source": [
    "## Optimización del Umbral de Decisión"
   ]
  },
  {
   "cell_type": "code",
   "execution_count": 47,
   "metadata": {},
   "outputs": [
    {
     "name": "stdout",
     "output_type": "stream",
     "text": [
      "\n",
      "Best Threshold (F1-score): 0.8770\n"
     ]
    }
   ],
   "source": [
    "# Para mejorar el balance entre FP y TP\n",
    "# Encontrar el mejor umbral según F1-score\n",
    "f1_scores = 2 * (precision * recall) / (precision + recall + 1e-6)\n",
    "best_threshold = thresholds[np.argmax(f1_scores)]\n",
    "print(f\"\\nBest Threshold (F1-score): {best_threshold:.4f}\")"
   ]
  },
  {
   "cell_type": "code",
   "execution_count": 48,
   "metadata": {},
   "outputs": [
    {
     "name": "stdout",
     "output_type": "stream",
     "text": [
      "\n",
      "Optimized Classification Report:\n",
      "              precision    recall  f1-score   support\n",
      "\n",
      "           0       1.00      1.00      1.00    139280\n",
      "           1       0.88      0.54      0.67       258\n",
      "\n",
      "    accuracy                           1.00    139538\n",
      "   macro avg       0.94      0.77      0.83    139538\n",
      "weighted avg       1.00      1.00      1.00    139538\n",
      "\n"
     ]
    }
   ],
   "source": [
    "# Aplicar nuevo umbral\n",
    "optimized_pred = (y_pred > best_threshold).astype(int)\n",
    "print(\"\\nOptimized Classification Report:\")\n",
    "print(classification_report(y_test, optimized_pred))"
   ]
  },
  {
   "cell_type": "markdown",
   "metadata": {},
   "source": [
    "## Análisis de Transacciones Digitales"
   ]
  },
  {
   "cell_type": "code",
   "execution_count": null,
   "metadata": {},
   "outputs": [
    {
     "name": "stdout",
     "output_type": "stream",
     "text": [
      "Categorías únicas en los datos: ['misc_net' 'grocery_pos' 'entertainment' 'gas_transport' 'misc_pos'\n",
      " 'grocery_net' 'shopping_net' 'shopping_pos' 'food_dining' 'personal_care'\n",
      " 'health_fitness' 'travel' 'kids_pets' 'home']\n"
     ]
    }
   ],
   "source": [
    "print(\"Categorías únicas en los datos:\", df['category'].unique())"
   ]
  },
  {
   "cell_type": "code",
   "execution_count": null,
   "metadata": {},
   "outputs": [
    {
     "name": "stdout",
     "output_type": "stream",
     "text": [
      "\n",
      "Distribución de fraudes por categoría:\n",
      "category        is_fraud\n",
      "entertainment   0           133826\n",
      "                1              292\n",
      "food_dining     0           130524\n",
      "                1              205\n",
      "gas_transport   0           187257\n",
      "                1              772\n",
      "grocery_net     0            64703\n",
      "                1              175\n",
      "grocery_pos     0           173963\n",
      "                1             2228\n",
      "health_fitness  0           122368\n",
      "                1              185\n",
      "home            0           175195\n",
      "                1              265\n",
      "kids_pets       0           161423\n",
      "                1              304\n",
      "misc_net        0            89472\n",
      "                1             1182\n",
      "misc_pos        0           113907\n",
      "                1              322\n",
      "personal_care   0           129795\n",
      "                1              290\n",
      "shopping_net    0           137103\n",
      "                1             2219\n",
      "shopping_pos    0           165407\n",
      "                1             1056\n",
      "travel          0            57800\n",
      "                1              156\n",
      "Name: count, dtype: int64\n"
     ]
    }
   ],
   "source": [
    "print(\"\\nDistribución de fraudes por categoría:\")\n",
    "print(df.groupby('category')['is_fraud'].value_counts())"
   ]
  },
  {
   "cell_type": "code",
   "execution_count": 57,
   "metadata": {},
   "outputs": [],
   "source": [
    "digital_categories = ['misc_net', 'shopping_net', 'grocery_net']\n",
    "digital_mask = df['category'].isin(digital_categories)"
   ]
  },
  {
   "cell_type": "code",
   "execution_count": 58,
   "metadata": {},
   "outputs": [
    {
     "name": "stdout",
     "output_type": "stream",
     "text": [
      "Transacciones digitales totales: 294854\n",
      "Fraudes digitales: 3576\n"
     ]
    }
   ],
   "source": [
    "print(f\"Transacciones digitales totales: {digital_mask.sum()}\")\n",
    "print(f\"Fraudes digitales: {df.loc[digital_mask, 'is_fraud'].sum()}\")"
   ]
  },
  {
   "cell_type": "code",
   "execution_count": 59,
   "metadata": {},
   "outputs": [],
   "source": [
    "# Codificación de variables\n",
    "X = pd.get_dummies(df.drop(['is_fraud', 'cc_num', 'merchant', 'first', 'last', 'street', 'city', 'state', 'job', 'dob', 'trans_num'], axis=1))\n",
    "y = df['is_fraud']"
   ]
  },
  {
   "cell_type": "code",
   "execution_count": 60,
   "metadata": {},
   "outputs": [],
   "source": [
    "# División temporal (diciembre 2020 como test)\n",
    "train_mask = (df['year'] != 2020) | (df['trans_month'] != 12)\n",
    "test_mask = (df['year'] == 2020) & (df['trans_month'] == 12)"
   ]
  },
  {
   "cell_type": "code",
   "execution_count": 61,
   "metadata": {},
   "outputs": [],
   "source": [
    "X_train, X_test = X[train_mask], X[test_mask]\n",
    "y_train, y_test = y[train_mask], y[test_mask]"
   ]
  },
  {
   "cell_type": "code",
   "execution_count": 63,
   "metadata": {},
   "outputs": [],
   "source": [
    "# Ponderación para clases desbalanceadas\n",
    "scale_pos_weight = len(y_train[y_train==0]) / len(y_train[y_train==1])"
   ]
  },
  {
   "cell_type": "code",
   "execution_count": 64,
   "metadata": {},
   "outputs": [],
   "source": [
    "model = LGBMClassifier(\n",
    "    random_state=42,\n",
    "    scale_pos_weight=scale_pos_weight,\n",
    "    n_estimators=1000,\n",
    "    learning_rate=0.05,\n",
    "    importance_type='gain'\n",
    ")"
   ]
  },
  {
   "cell_type": "code",
   "execution_count": 65,
   "metadata": {},
   "outputs": [
    {
     "data": {
      "text/html": [
       "<style>#sk-container-id-2 {\n",
       "  /* Definition of color scheme common for light and dark mode */\n",
       "  --sklearn-color-text: black;\n",
       "  --sklearn-color-line: gray;\n",
       "  /* Definition of color scheme for unfitted estimators */\n",
       "  --sklearn-color-unfitted-level-0: #fff5e6;\n",
       "  --sklearn-color-unfitted-level-1: #f6e4d2;\n",
       "  --sklearn-color-unfitted-level-2: #ffe0b3;\n",
       "  --sklearn-color-unfitted-level-3: chocolate;\n",
       "  /* Definition of color scheme for fitted estimators */\n",
       "  --sklearn-color-fitted-level-0: #f0f8ff;\n",
       "  --sklearn-color-fitted-level-1: #d4ebff;\n",
       "  --sklearn-color-fitted-level-2: #b3dbfd;\n",
       "  --sklearn-color-fitted-level-3: cornflowerblue;\n",
       "\n",
       "  /* Specific color for light theme */\n",
       "  --sklearn-color-text-on-default-background: var(--sg-text-color, var(--theme-code-foreground, var(--jp-content-font-color1, black)));\n",
       "  --sklearn-color-background: var(--sg-background-color, var(--theme-background, var(--jp-layout-color0, white)));\n",
       "  --sklearn-color-border-box: var(--sg-text-color, var(--theme-code-foreground, var(--jp-content-font-color1, black)));\n",
       "  --sklearn-color-icon: #696969;\n",
       "\n",
       "  @media (prefers-color-scheme: dark) {\n",
       "    /* Redefinition of color scheme for dark theme */\n",
       "    --sklearn-color-text-on-default-background: var(--sg-text-color, var(--theme-code-foreground, var(--jp-content-font-color1, white)));\n",
       "    --sklearn-color-background: var(--sg-background-color, var(--theme-background, var(--jp-layout-color0, #111)));\n",
       "    --sklearn-color-border-box: var(--sg-text-color, var(--theme-code-foreground, var(--jp-content-font-color1, white)));\n",
       "    --sklearn-color-icon: #878787;\n",
       "  }\n",
       "}\n",
       "\n",
       "#sk-container-id-2 {\n",
       "  color: var(--sklearn-color-text);\n",
       "}\n",
       "\n",
       "#sk-container-id-2 pre {\n",
       "  padding: 0;\n",
       "}\n",
       "\n",
       "#sk-container-id-2 input.sk-hidden--visually {\n",
       "  border: 0;\n",
       "  clip: rect(1px 1px 1px 1px);\n",
       "  clip: rect(1px, 1px, 1px, 1px);\n",
       "  height: 1px;\n",
       "  margin: -1px;\n",
       "  overflow: hidden;\n",
       "  padding: 0;\n",
       "  position: absolute;\n",
       "  width: 1px;\n",
       "}\n",
       "\n",
       "#sk-container-id-2 div.sk-dashed-wrapped {\n",
       "  border: 1px dashed var(--sklearn-color-line);\n",
       "  margin: 0 0.4em 0.5em 0.4em;\n",
       "  box-sizing: border-box;\n",
       "  padding-bottom: 0.4em;\n",
       "  background-color: var(--sklearn-color-background);\n",
       "}\n",
       "\n",
       "#sk-container-id-2 div.sk-container {\n",
       "  /* jupyter's `normalize.less` sets `[hidden] { display: none; }`\n",
       "     but bootstrap.min.css set `[hidden] { display: none !important; }`\n",
       "     so we also need the `!important` here to be able to override the\n",
       "     default hidden behavior on the sphinx rendered scikit-learn.org.\n",
       "     See: https://github.com/scikit-learn/scikit-learn/issues/21755 */\n",
       "  display: inline-block !important;\n",
       "  position: relative;\n",
       "}\n",
       "\n",
       "#sk-container-id-2 div.sk-text-repr-fallback {\n",
       "  display: none;\n",
       "}\n",
       "\n",
       "div.sk-parallel-item,\n",
       "div.sk-serial,\n",
       "div.sk-item {\n",
       "  /* draw centered vertical line to link estimators */\n",
       "  background-image: linear-gradient(var(--sklearn-color-text-on-default-background), var(--sklearn-color-text-on-default-background));\n",
       "  background-size: 2px 100%;\n",
       "  background-repeat: no-repeat;\n",
       "  background-position: center center;\n",
       "}\n",
       "\n",
       "/* Parallel-specific style estimator block */\n",
       "\n",
       "#sk-container-id-2 div.sk-parallel-item::after {\n",
       "  content: \"\";\n",
       "  width: 100%;\n",
       "  border-bottom: 2px solid var(--sklearn-color-text-on-default-background);\n",
       "  flex-grow: 1;\n",
       "}\n",
       "\n",
       "#sk-container-id-2 div.sk-parallel {\n",
       "  display: flex;\n",
       "  align-items: stretch;\n",
       "  justify-content: center;\n",
       "  background-color: var(--sklearn-color-background);\n",
       "  position: relative;\n",
       "}\n",
       "\n",
       "#sk-container-id-2 div.sk-parallel-item {\n",
       "  display: flex;\n",
       "  flex-direction: column;\n",
       "}\n",
       "\n",
       "#sk-container-id-2 div.sk-parallel-item:first-child::after {\n",
       "  align-self: flex-end;\n",
       "  width: 50%;\n",
       "}\n",
       "\n",
       "#sk-container-id-2 div.sk-parallel-item:last-child::after {\n",
       "  align-self: flex-start;\n",
       "  width: 50%;\n",
       "}\n",
       "\n",
       "#sk-container-id-2 div.sk-parallel-item:only-child::after {\n",
       "  width: 0;\n",
       "}\n",
       "\n",
       "/* Serial-specific style estimator block */\n",
       "\n",
       "#sk-container-id-2 div.sk-serial {\n",
       "  display: flex;\n",
       "  flex-direction: column;\n",
       "  align-items: center;\n",
       "  background-color: var(--sklearn-color-background);\n",
       "  padding-right: 1em;\n",
       "  padding-left: 1em;\n",
       "}\n",
       "\n",
       "\n",
       "/* Toggleable style: style used for estimator/Pipeline/ColumnTransformer box that is\n",
       "clickable and can be expanded/collapsed.\n",
       "- Pipeline and ColumnTransformer use this feature and define the default style\n",
       "- Estimators will overwrite some part of the style using the `sk-estimator` class\n",
       "*/\n",
       "\n",
       "/* Pipeline and ColumnTransformer style (default) */\n",
       "\n",
       "#sk-container-id-2 div.sk-toggleable {\n",
       "  /* Default theme specific background. It is overwritten whether we have a\n",
       "  specific estimator or a Pipeline/ColumnTransformer */\n",
       "  background-color: var(--sklearn-color-background);\n",
       "}\n",
       "\n",
       "/* Toggleable label */\n",
       "#sk-container-id-2 label.sk-toggleable__label {\n",
       "  cursor: pointer;\n",
       "  display: block;\n",
       "  width: 100%;\n",
       "  margin-bottom: 0;\n",
       "  padding: 0.5em;\n",
       "  box-sizing: border-box;\n",
       "  text-align: center;\n",
       "}\n",
       "\n",
       "#sk-container-id-2 label.sk-toggleable__label-arrow:before {\n",
       "  /* Arrow on the left of the label */\n",
       "  content: \"▸\";\n",
       "  float: left;\n",
       "  margin-right: 0.25em;\n",
       "  color: var(--sklearn-color-icon);\n",
       "}\n",
       "\n",
       "#sk-container-id-2 label.sk-toggleable__label-arrow:hover:before {\n",
       "  color: var(--sklearn-color-text);\n",
       "}\n",
       "\n",
       "/* Toggleable content - dropdown */\n",
       "\n",
       "#sk-container-id-2 div.sk-toggleable__content {\n",
       "  max-height: 0;\n",
       "  max-width: 0;\n",
       "  overflow: hidden;\n",
       "  text-align: left;\n",
       "  /* unfitted */\n",
       "  background-color: var(--sklearn-color-unfitted-level-0);\n",
       "}\n",
       "\n",
       "#sk-container-id-2 div.sk-toggleable__content.fitted {\n",
       "  /* fitted */\n",
       "  background-color: var(--sklearn-color-fitted-level-0);\n",
       "}\n",
       "\n",
       "#sk-container-id-2 div.sk-toggleable__content pre {\n",
       "  margin: 0.2em;\n",
       "  border-radius: 0.25em;\n",
       "  color: var(--sklearn-color-text);\n",
       "  /* unfitted */\n",
       "  background-color: var(--sklearn-color-unfitted-level-0);\n",
       "}\n",
       "\n",
       "#sk-container-id-2 div.sk-toggleable__content.fitted pre {\n",
       "  /* unfitted */\n",
       "  background-color: var(--sklearn-color-fitted-level-0);\n",
       "}\n",
       "\n",
       "#sk-container-id-2 input.sk-toggleable__control:checked~div.sk-toggleable__content {\n",
       "  /* Expand drop-down */\n",
       "  max-height: 200px;\n",
       "  max-width: 100%;\n",
       "  overflow: auto;\n",
       "}\n",
       "\n",
       "#sk-container-id-2 input.sk-toggleable__control:checked~label.sk-toggleable__label-arrow:before {\n",
       "  content: \"▾\";\n",
       "}\n",
       "\n",
       "/* Pipeline/ColumnTransformer-specific style */\n",
       "\n",
       "#sk-container-id-2 div.sk-label input.sk-toggleable__control:checked~label.sk-toggleable__label {\n",
       "  color: var(--sklearn-color-text);\n",
       "  background-color: var(--sklearn-color-unfitted-level-2);\n",
       "}\n",
       "\n",
       "#sk-container-id-2 div.sk-label.fitted input.sk-toggleable__control:checked~label.sk-toggleable__label {\n",
       "  background-color: var(--sklearn-color-fitted-level-2);\n",
       "}\n",
       "\n",
       "/* Estimator-specific style */\n",
       "\n",
       "/* Colorize estimator box */\n",
       "#sk-container-id-2 div.sk-estimator input.sk-toggleable__control:checked~label.sk-toggleable__label {\n",
       "  /* unfitted */\n",
       "  background-color: var(--sklearn-color-unfitted-level-2);\n",
       "}\n",
       "\n",
       "#sk-container-id-2 div.sk-estimator.fitted input.sk-toggleable__control:checked~label.sk-toggleable__label {\n",
       "  /* fitted */\n",
       "  background-color: var(--sklearn-color-fitted-level-2);\n",
       "}\n",
       "\n",
       "#sk-container-id-2 div.sk-label label.sk-toggleable__label,\n",
       "#sk-container-id-2 div.sk-label label {\n",
       "  /* The background is the default theme color */\n",
       "  color: var(--sklearn-color-text-on-default-background);\n",
       "}\n",
       "\n",
       "/* On hover, darken the color of the background */\n",
       "#sk-container-id-2 div.sk-label:hover label.sk-toggleable__label {\n",
       "  color: var(--sklearn-color-text);\n",
       "  background-color: var(--sklearn-color-unfitted-level-2);\n",
       "}\n",
       "\n",
       "/* Label box, darken color on hover, fitted */\n",
       "#sk-container-id-2 div.sk-label.fitted:hover label.sk-toggleable__label.fitted {\n",
       "  color: var(--sklearn-color-text);\n",
       "  background-color: var(--sklearn-color-fitted-level-2);\n",
       "}\n",
       "\n",
       "/* Estimator label */\n",
       "\n",
       "#sk-container-id-2 div.sk-label label {\n",
       "  font-family: monospace;\n",
       "  font-weight: bold;\n",
       "  display: inline-block;\n",
       "  line-height: 1.2em;\n",
       "}\n",
       "\n",
       "#sk-container-id-2 div.sk-label-container {\n",
       "  text-align: center;\n",
       "}\n",
       "\n",
       "/* Estimator-specific */\n",
       "#sk-container-id-2 div.sk-estimator {\n",
       "  font-family: monospace;\n",
       "  border: 1px dotted var(--sklearn-color-border-box);\n",
       "  border-radius: 0.25em;\n",
       "  box-sizing: border-box;\n",
       "  margin-bottom: 0.5em;\n",
       "  /* unfitted */\n",
       "  background-color: var(--sklearn-color-unfitted-level-0);\n",
       "}\n",
       "\n",
       "#sk-container-id-2 div.sk-estimator.fitted {\n",
       "  /* fitted */\n",
       "  background-color: var(--sklearn-color-fitted-level-0);\n",
       "}\n",
       "\n",
       "/* on hover */\n",
       "#sk-container-id-2 div.sk-estimator:hover {\n",
       "  /* unfitted */\n",
       "  background-color: var(--sklearn-color-unfitted-level-2);\n",
       "}\n",
       "\n",
       "#sk-container-id-2 div.sk-estimator.fitted:hover {\n",
       "  /* fitted */\n",
       "  background-color: var(--sklearn-color-fitted-level-2);\n",
       "}\n",
       "\n",
       "/* Specification for estimator info (e.g. \"i\" and \"?\") */\n",
       "\n",
       "/* Common style for \"i\" and \"?\" */\n",
       "\n",
       ".sk-estimator-doc-link,\n",
       "a:link.sk-estimator-doc-link,\n",
       "a:visited.sk-estimator-doc-link {\n",
       "  float: right;\n",
       "  font-size: smaller;\n",
       "  line-height: 1em;\n",
       "  font-family: monospace;\n",
       "  background-color: var(--sklearn-color-background);\n",
       "  border-radius: 1em;\n",
       "  height: 1em;\n",
       "  width: 1em;\n",
       "  text-decoration: none !important;\n",
       "  margin-left: 1ex;\n",
       "  /* unfitted */\n",
       "  border: var(--sklearn-color-unfitted-level-1) 1pt solid;\n",
       "  color: var(--sklearn-color-unfitted-level-1);\n",
       "}\n",
       "\n",
       ".sk-estimator-doc-link.fitted,\n",
       "a:link.sk-estimator-doc-link.fitted,\n",
       "a:visited.sk-estimator-doc-link.fitted {\n",
       "  /* fitted */\n",
       "  border: var(--sklearn-color-fitted-level-1) 1pt solid;\n",
       "  color: var(--sklearn-color-fitted-level-1);\n",
       "}\n",
       "\n",
       "/* On hover */\n",
       "div.sk-estimator:hover .sk-estimator-doc-link:hover,\n",
       ".sk-estimator-doc-link:hover,\n",
       "div.sk-label-container:hover .sk-estimator-doc-link:hover,\n",
       ".sk-estimator-doc-link:hover {\n",
       "  /* unfitted */\n",
       "  background-color: var(--sklearn-color-unfitted-level-3);\n",
       "  color: var(--sklearn-color-background);\n",
       "  text-decoration: none;\n",
       "}\n",
       "\n",
       "div.sk-estimator.fitted:hover .sk-estimator-doc-link.fitted:hover,\n",
       ".sk-estimator-doc-link.fitted:hover,\n",
       "div.sk-label-container:hover .sk-estimator-doc-link.fitted:hover,\n",
       ".sk-estimator-doc-link.fitted:hover {\n",
       "  /* fitted */\n",
       "  background-color: var(--sklearn-color-fitted-level-3);\n",
       "  color: var(--sklearn-color-background);\n",
       "  text-decoration: none;\n",
       "}\n",
       "\n",
       "/* Span, style for the box shown on hovering the info icon */\n",
       ".sk-estimator-doc-link span {\n",
       "  display: none;\n",
       "  z-index: 9999;\n",
       "  position: relative;\n",
       "  font-weight: normal;\n",
       "  right: .2ex;\n",
       "  padding: .5ex;\n",
       "  margin: .5ex;\n",
       "  width: min-content;\n",
       "  min-width: 20ex;\n",
       "  max-width: 50ex;\n",
       "  color: var(--sklearn-color-text);\n",
       "  box-shadow: 2pt 2pt 4pt #999;\n",
       "  /* unfitted */\n",
       "  background: var(--sklearn-color-unfitted-level-0);\n",
       "  border: .5pt solid var(--sklearn-color-unfitted-level-3);\n",
       "}\n",
       "\n",
       ".sk-estimator-doc-link.fitted span {\n",
       "  /* fitted */\n",
       "  background: var(--sklearn-color-fitted-level-0);\n",
       "  border: var(--sklearn-color-fitted-level-3);\n",
       "}\n",
       "\n",
       ".sk-estimator-doc-link:hover span {\n",
       "  display: block;\n",
       "}\n",
       "\n",
       "/* \"?\"-specific style due to the `<a>` HTML tag */\n",
       "\n",
       "#sk-container-id-2 a.estimator_doc_link {\n",
       "  float: right;\n",
       "  font-size: 1rem;\n",
       "  line-height: 1em;\n",
       "  font-family: monospace;\n",
       "  background-color: var(--sklearn-color-background);\n",
       "  border-radius: 1rem;\n",
       "  height: 1rem;\n",
       "  width: 1rem;\n",
       "  text-decoration: none;\n",
       "  /* unfitted */\n",
       "  color: var(--sklearn-color-unfitted-level-1);\n",
       "  border: var(--sklearn-color-unfitted-level-1) 1pt solid;\n",
       "}\n",
       "\n",
       "#sk-container-id-2 a.estimator_doc_link.fitted {\n",
       "  /* fitted */\n",
       "  border: var(--sklearn-color-fitted-level-1) 1pt solid;\n",
       "  color: var(--sklearn-color-fitted-level-1);\n",
       "}\n",
       "\n",
       "/* On hover */\n",
       "#sk-container-id-2 a.estimator_doc_link:hover {\n",
       "  /* unfitted */\n",
       "  background-color: var(--sklearn-color-unfitted-level-3);\n",
       "  color: var(--sklearn-color-background);\n",
       "  text-decoration: none;\n",
       "}\n",
       "\n",
       "#sk-container-id-2 a.estimator_doc_link.fitted:hover {\n",
       "  /* fitted */\n",
       "  background-color: var(--sklearn-color-fitted-level-3);\n",
       "}\n",
       "</style><div id=\"sk-container-id-2\" class=\"sk-top-container\"><div class=\"sk-text-repr-fallback\"><pre>LGBMClassifier(importance_type=&#x27;gain&#x27;, learning_rate=0.05, n_estimators=1000,\n",
       "               random_state=42, scale_pos_weight=181.35451932290005)</pre><b>In a Jupyter environment, please rerun this cell to show the HTML representation or trust the notebook. <br />On GitHub, the HTML representation is unable to render, please try loading this page with nbviewer.org.</b></div><div class=\"sk-container\" hidden><div class=\"sk-item\"><div class=\"sk-estimator fitted sk-toggleable\"><input class=\"sk-toggleable__control sk-hidden--visually\" id=\"sk-estimator-id-2\" type=\"checkbox\" checked><label for=\"sk-estimator-id-2\" class=\"sk-toggleable__label fitted sk-toggleable__label-arrow fitted\">&nbsp;LGBMClassifier<span class=\"sk-estimator-doc-link fitted\">i<span>Fitted</span></span></label><div class=\"sk-toggleable__content fitted\"><pre>LGBMClassifier(importance_type=&#x27;gain&#x27;, learning_rate=0.05, n_estimators=1000,\n",
       "               random_state=42, scale_pos_weight=181.35451932290005)</pre></div> </div></div></div></div>"
      ],
      "text/plain": [
       "LGBMClassifier(importance_type='gain', learning_rate=0.05, n_estimators=1000,\n",
       "               random_state=42, scale_pos_weight=181.35451932290005)"
      ]
     },
     "execution_count": 65,
     "metadata": {},
     "output_type": "execute_result"
    }
   ],
   "source": [
    "model.fit(X_train, y_train)"
   ]
  },
  {
   "cell_type": "markdown",
   "metadata": {},
   "source": [
    "## Métricas Personalizadas para Digital"
   ]
  },
  {
   "cell_type": "code",
   "execution_count": 66,
   "metadata": {},
   "outputs": [],
   "source": [
    "# Función para métricas específicas\n",
    "def digital_metrics(model, X, y, digital_categories):\n",
    "    digital_mask = X['category'].isin(digital_categories)\n",
    "    y_pred = model.predict(X)\n",
    "    y_proba = model.predict_proba(X)[:,1]\n",
    "    \n",
    "    # Métricas generales\n",
    "    print(\"Métricas generales:\")\n",
    "    print(classification_report(y, y_pred))\n",
    "    \n",
    "    # Métricas para digital\n",
    "    if digital_mask.any():\n",
    "        y_digital = y[digital_mask]\n",
    "        y_pred_digital = y_pred[digital_mask]\n",
    "        \n",
    "        tn, fp, fn, tp = confusion_matrix(y_digital, y_pred_digital).ravel()\n",
    "        \n",
    "        print(\"\\nMétricas para transacciones digitales:\")\n",
    "        print(f\"True Positives (Fraudes detectados): {tp}\")\n",
    "        print(f\"False Positives (Falsas alarmas): {fp}\")\n",
    "        print(f\"False Negatives (Fraudes no detectados): {fn}\")\n",
    "        print(f\"Precisión: {tp/(tp+fp):.2%}\")\n",
    "        print(f\"Recall: {tp/(tp+fn):.2%}\")\n",
    "        print(f\"F1-Score: {2*tp/(2*tp+fp+fn):.2%}\")\n",
    "    else:\n",
    "        print(\"\\nNo hay transacciones digitales en este conjunto\")"
   ]
  },
  {
   "cell_type": "code",
   "execution_count": 67,
   "metadata": {},
   "outputs": [
    {
     "ename": "KeyError",
     "evalue": "'category'",
     "output_type": "error",
     "traceback": [
      "\u001b[1;31m---------------------------------------------------------------------------\u001b[0m",
      "\u001b[1;31mKeyError\u001b[0m                                  Traceback (most recent call last)",
      "File \u001b[1;32mc:\\Users\\Jennifer\\anaconda3\\Lib\\site-packages\\pandas\\core\\indexes\\base.py:3805\u001b[0m, in \u001b[0;36mIndex.get_loc\u001b[1;34m(self, key)\u001b[0m\n\u001b[0;32m   3804\u001b[0m \u001b[38;5;28;01mtry\u001b[39;00m:\n\u001b[1;32m-> 3805\u001b[0m     \u001b[38;5;28;01mreturn\u001b[39;00m \u001b[38;5;28mself\u001b[39m\u001b[38;5;241m.\u001b[39m_engine\u001b[38;5;241m.\u001b[39mget_loc(casted_key)\n\u001b[0;32m   3806\u001b[0m \u001b[38;5;28;01mexcept\u001b[39;00m \u001b[38;5;167;01mKeyError\u001b[39;00m \u001b[38;5;28;01mas\u001b[39;00m err:\n",
      "File \u001b[1;32mindex.pyx:167\u001b[0m, in \u001b[0;36mpandas._libs.index.IndexEngine.get_loc\u001b[1;34m()\u001b[0m\n",
      "File \u001b[1;32mindex.pyx:196\u001b[0m, in \u001b[0;36mpandas._libs.index.IndexEngine.get_loc\u001b[1;34m()\u001b[0m\n",
      "File \u001b[1;32mpandas\\\\_libs\\\\hashtable_class_helper.pxi:7081\u001b[0m, in \u001b[0;36mpandas._libs.hashtable.PyObjectHashTable.get_item\u001b[1;34m()\u001b[0m\n",
      "File \u001b[1;32mpandas\\\\_libs\\\\hashtable_class_helper.pxi:7089\u001b[0m, in \u001b[0;36mpandas._libs.hashtable.PyObjectHashTable.get_item\u001b[1;34m()\u001b[0m\n",
      "\u001b[1;31mKeyError\u001b[0m: 'category'",
      "\nThe above exception was the direct cause of the following exception:\n",
      "\u001b[1;31mKeyError\u001b[0m                                  Traceback (most recent call last)",
      "Cell \u001b[1;32mIn[67], line 1\u001b[0m\n\u001b[1;32m----> 1\u001b[0m digital_metrics(model, X_test, y_test, digital_categories)\n",
      "Cell \u001b[1;32mIn[66], line 3\u001b[0m, in \u001b[0;36mdigital_metrics\u001b[1;34m(model, X, y, digital_categories)\u001b[0m\n\u001b[0;32m      2\u001b[0m \u001b[38;5;28;01mdef\u001b[39;00m \u001b[38;5;21mdigital_metrics\u001b[39m(model, X, y, digital_categories):\n\u001b[1;32m----> 3\u001b[0m     digital_mask \u001b[38;5;241m=\u001b[39m X[\u001b[38;5;124m'\u001b[39m\u001b[38;5;124mcategory\u001b[39m\u001b[38;5;124m'\u001b[39m]\u001b[38;5;241m.\u001b[39misin(digital_categories)\n\u001b[0;32m      4\u001b[0m     y_pred \u001b[38;5;241m=\u001b[39m model\u001b[38;5;241m.\u001b[39mpredict(X)\n\u001b[0;32m      5\u001b[0m     y_proba \u001b[38;5;241m=\u001b[39m model\u001b[38;5;241m.\u001b[39mpredict_proba(X)[:,\u001b[38;5;241m1\u001b[39m]\n",
      "File \u001b[1;32mc:\\Users\\Jennifer\\anaconda3\\Lib\\site-packages\\pandas\\core\\frame.py:4102\u001b[0m, in \u001b[0;36mDataFrame.__getitem__\u001b[1;34m(self, key)\u001b[0m\n\u001b[0;32m   4100\u001b[0m \u001b[38;5;28;01mif\u001b[39;00m \u001b[38;5;28mself\u001b[39m\u001b[38;5;241m.\u001b[39mcolumns\u001b[38;5;241m.\u001b[39mnlevels \u001b[38;5;241m>\u001b[39m \u001b[38;5;241m1\u001b[39m:\n\u001b[0;32m   4101\u001b[0m     \u001b[38;5;28;01mreturn\u001b[39;00m \u001b[38;5;28mself\u001b[39m\u001b[38;5;241m.\u001b[39m_getitem_multilevel(key)\n\u001b[1;32m-> 4102\u001b[0m indexer \u001b[38;5;241m=\u001b[39m \u001b[38;5;28mself\u001b[39m\u001b[38;5;241m.\u001b[39mcolumns\u001b[38;5;241m.\u001b[39mget_loc(key)\n\u001b[0;32m   4103\u001b[0m \u001b[38;5;28;01mif\u001b[39;00m is_integer(indexer):\n\u001b[0;32m   4104\u001b[0m     indexer \u001b[38;5;241m=\u001b[39m [indexer]\n",
      "File \u001b[1;32mc:\\Users\\Jennifer\\anaconda3\\Lib\\site-packages\\pandas\\core\\indexes\\base.py:3812\u001b[0m, in \u001b[0;36mIndex.get_loc\u001b[1;34m(self, key)\u001b[0m\n\u001b[0;32m   3807\u001b[0m     \u001b[38;5;28;01mif\u001b[39;00m \u001b[38;5;28misinstance\u001b[39m(casted_key, \u001b[38;5;28mslice\u001b[39m) \u001b[38;5;129;01mor\u001b[39;00m (\n\u001b[0;32m   3808\u001b[0m         \u001b[38;5;28misinstance\u001b[39m(casted_key, abc\u001b[38;5;241m.\u001b[39mIterable)\n\u001b[0;32m   3809\u001b[0m         \u001b[38;5;129;01mand\u001b[39;00m \u001b[38;5;28many\u001b[39m(\u001b[38;5;28misinstance\u001b[39m(x, \u001b[38;5;28mslice\u001b[39m) \u001b[38;5;28;01mfor\u001b[39;00m x \u001b[38;5;129;01min\u001b[39;00m casted_key)\n\u001b[0;32m   3810\u001b[0m     ):\n\u001b[0;32m   3811\u001b[0m         \u001b[38;5;28;01mraise\u001b[39;00m InvalidIndexError(key)\n\u001b[1;32m-> 3812\u001b[0m     \u001b[38;5;28;01mraise\u001b[39;00m \u001b[38;5;167;01mKeyError\u001b[39;00m(key) \u001b[38;5;28;01mfrom\u001b[39;00m \u001b[38;5;21;01merr\u001b[39;00m\n\u001b[0;32m   3813\u001b[0m \u001b[38;5;28;01mexcept\u001b[39;00m \u001b[38;5;167;01mTypeError\u001b[39;00m:\n\u001b[0;32m   3814\u001b[0m     \u001b[38;5;66;03m# If we have a listlike key, _check_indexing_error will raise\u001b[39;00m\n\u001b[0;32m   3815\u001b[0m     \u001b[38;5;66;03m#  InvalidIndexError. Otherwise we fall through and re-raise\u001b[39;00m\n\u001b[0;32m   3816\u001b[0m     \u001b[38;5;66;03m#  the TypeError.\u001b[39;00m\n\u001b[0;32m   3817\u001b[0m     \u001b[38;5;28mself\u001b[39m\u001b[38;5;241m.\u001b[39m_check_indexing_error(key)\n",
      "\u001b[1;31mKeyError\u001b[0m: 'category'"
     ]
    }
   ],
   "source": [
    "digital_metrics(model, X_test, y_test, digital_categories)"
   ]
  },
  {
   "cell_type": "markdown",
   "metadata": {},
   "source": [
    "## Optimización para Digital"
   ]
  },
  {
   "cell_type": "code",
   "execution_count": 80,
   "metadata": {},
   "outputs": [
    {
     "name": "stdout",
     "output_type": "stream",
     "text": [
      "\n",
      "Performance on Digital Transactions:\n"
     ]
    },
    {
     "ename": "IndexError",
     "evalue": "boolean index did not match indexed array along dimension 0; dimension is 139538 but corresponding boolean dimension is 555719",
     "output_type": "error",
     "traceback": [
      "\u001b[1;31m---------------------------------------------------------------------------\u001b[0m",
      "\u001b[1;31mIndexError\u001b[0m                                Traceback (most recent call last)",
      "Cell \u001b[1;32mIn[80], line 4\u001b[0m\n\u001b[0;32m      1\u001b[0m \u001b[38;5;28;01mif\u001b[39;00m digital_frauds \u001b[38;5;241m>\u001b[39m \u001b[38;5;241m0\u001b[39m:\n\u001b[0;32m      2\u001b[0m     \u001b[38;5;66;03m# Solo ejecutar si hay fraudes digitales\u001b[39;00m\n\u001b[0;32m      3\u001b[0m     \u001b[38;5;28mprint\u001b[39m(\u001b[38;5;124m\"\u001b[39m\u001b[38;5;130;01m\\n\u001b[39;00m\u001b[38;5;124mPerformance on Digital Transactions:\u001b[39m\u001b[38;5;124m\"\u001b[39m)\n\u001b[1;32m----> 4\u001b[0m     \u001b[38;5;28mprint\u001b[39m(classification_report(y_test[digital_mask], y_pred_bin[digital_mask]))\n\u001b[0;32m      5\u001b[0m \u001b[38;5;28;01melse\u001b[39;00m:\n\u001b[0;32m      6\u001b[0m     \u001b[38;5;28mprint\u001b[39m(\u001b[38;5;124m\"\u001b[39m\u001b[38;5;130;01m\\n\u001b[39;00m\u001b[38;5;124mNo hay transacciones fraudulentas en el subconjunto digital para evaluar.\u001b[39m\u001b[38;5;124m\"\u001b[39m)\n",
      "\u001b[1;31mIndexError\u001b[0m: boolean index did not match indexed array along dimension 0; dimension is 139538 but corresponding boolean dimension is 555719"
     ]
    }
   ],
   "source": [
    "if digital_frauds > 0:\n",
    "    # Solo ejecutar si hay fraudes digitales\n",
    "    print(\"\\nPerformance on Digital Transactions:\")\n",
    "    print(classification_report(y_test[digital_mask], y_pred_bin[digital_mask]))\n",
    "else:\n",
    "    print(\"\\nNo hay transacciones fraudulentas en el subconjunto digital para evaluar.\")\n",
    "    \n",
    "    # Alternativa: Mostrar métricas básicas\n",
    "    print(\"Transacciones digitales totales:\", sum(digital_mask))\n",
    "    print(\"Predicciones positivas en digitales:\", sum(y_pred_bin[digital_mask]))\n",
    "    print(\"Fraudes reales en digitales:\", digital_frauds)"
   ]
  },
  {
   "cell_type": "code",
   "execution_count": 81,
   "metadata": {},
   "outputs": [
    {
     "name": "stdout",
     "output_type": "stream",
     "text": [
      "\n",
      "Performance on Digital Transactions:\n"
     ]
    },
    {
     "ename": "IndexError",
     "evalue": "boolean index did not match indexed array along dimension 0; dimension is 139538 but corresponding boolean dimension is 555719",
     "output_type": "error",
     "traceback": [
      "\u001b[1;31m---------------------------------------------------------------------------\u001b[0m",
      "\u001b[1;31mIndexError\u001b[0m                                Traceback (most recent call last)",
      "Cell \u001b[1;32mIn[81], line 2\u001b[0m\n\u001b[0;32m      1\u001b[0m \u001b[38;5;28mprint\u001b[39m(\u001b[38;5;124m\"\u001b[39m\u001b[38;5;130;01m\\n\u001b[39;00m\u001b[38;5;124mPerformance on Digital Transactions:\u001b[39m\u001b[38;5;124m\"\u001b[39m)\n\u001b[1;32m----> 2\u001b[0m \u001b[38;5;28mprint\u001b[39m(classification_report(y_test[digital_mask], y_pred_bin[digital_mask]))\n",
      "\u001b[1;31mIndexError\u001b[0m: boolean index did not match indexed array along dimension 0; dimension is 139538 but corresponding boolean dimension is 555719"
     ]
    }
   ],
   "source": [
    "print(\"\\nPerformance on Digital Transactions:\")\n",
    "print(classification_report(y_test[digital_mask], y_pred_bin[digital_mask]))"
   ]
  },
  {
   "cell_type": "code",
   "execution_count": null,
   "metadata": {},
   "outputs": [],
   "source": [
    "# Métricas específicas para digital\n",
    "tn_d, fp_d, fn_d, tp_d = confusion_matrix(y_test[digital_mask], y_pred_bin[digital_mask]).ravel()\n",
    "fp_ratio_d = fp_d / tp_d if tp_d > 0 else float('inf')\n",
    "print(f\"FP/TP Ratio (Digital): {fp_ratio_d:.2f}\")"
   ]
  },
  {
   "cell_type": "markdown",
   "metadata": {},
   "source": [
    "### Definición de métricas personalizadas "
   ]
  },
  {
   "cell_type": "markdown",
   "metadata": {},
   "source": [
    "#### TP FP"
   ]
  },
  {
   "cell_type": "code",
   "execution_count": 47,
   "metadata": {},
   "outputs": [],
   "source": [
    "def custom_fp_tp_ratio(preds, train_data):\n",
    "    y_true = train_data.get_label()\n",
    "    y_pred = (preds > 0.5).astype(int)\n",
    "\n",
    "    from sklearn.metrics import confusion_matrix\n",
    "    tn, fp, fn, tp = confusion_matrix(y_true, y_pred).ravel()\n",
    "\n",
    "    # Ratio (TP + FP) / TP\n",
    "    ratio = (tp + fp) / (tp + 1e-6)  # Evitamos división por cero\n",
    "\n",
    "    return 'fp_tp_ratio', ratio, False  # False porque queremos minimizar"
   ]
  },
  {
   "cell_type": "code",
   "execution_count": 48,
   "metadata": {},
   "outputs": [
    {
     "name": "stdout",
     "output_type": "stream",
     "text": [
      "Training until validation scores don't improve for 50 rounds\n",
      "[50]\ttraining's auc: 0.993276\ttraining's fp_tp_ratio: 8.1901\tvalid_1's auc: 0.99189\tvalid_1's fp_tp_ratio: 8.21978\n",
      "[100]\ttraining's auc: 0.996394\ttraining's fp_tp_ratio: 6.45686\tvalid_1's auc: 0.99544\tvalid_1's fp_tp_ratio: 6.51277\n",
      "[150]\ttraining's auc: 0.997362\ttraining's fp_tp_ratio: 6.05894\tvalid_1's auc: 0.996375\tvalid_1's fp_tp_ratio: 6.13503\n",
      "[200]\ttraining's auc: 0.997927\ttraining's fp_tp_ratio: 5.75431\tvalid_1's auc: 0.996894\tvalid_1's fp_tp_ratio: 5.85086\n",
      "[250]\ttraining's auc: 0.998308\ttraining's fp_tp_ratio: 5.25173\tvalid_1's auc: 0.997324\tvalid_1's fp_tp_ratio: 5.31916\n",
      "[300]\ttraining's auc: 0.998563\ttraining's fp_tp_ratio: 5.00858\tvalid_1's auc: 0.997565\tvalid_1's fp_tp_ratio: 5.0825\n",
      "[350]\ttraining's auc: 0.998742\ttraining's fp_tp_ratio: 4.76347\tvalid_1's auc: 0.997722\tvalid_1's fp_tp_ratio: 4.84832\n",
      "[400]\ttraining's auc: 0.998866\ttraining's fp_tp_ratio: 4.54492\tvalid_1's auc: 0.997821\tvalid_1's fp_tp_ratio: 4.63692\n",
      "[450]\ttraining's auc: 0.998993\ttraining's fp_tp_ratio: 4.37976\tvalid_1's auc: 0.997948\tvalid_1's fp_tp_ratio: 4.46681\n",
      "[500]\ttraining's auc: 0.999088\ttraining's fp_tp_ratio: 4.19203\tvalid_1's auc: 0.998036\tvalid_1's fp_tp_ratio: 4.27292\n",
      "Did not meet early stopping. Best iteration is:\n",
      "[500]\ttraining's auc: 0.999088\ttraining's fp_tp_ratio: 4.19203\tvalid_1's auc: 0.998036\tvalid_1's fp_tp_ratio: 4.27292\n"
     ]
    }
   ],
   "source": [
    "model = lgb.train(\n",
    "    params,\n",
    "    train_data,\n",
    "    valid_sets=[train_data, test_data],\n",
    "    num_boost_round=500,\n",
    "    feval=custom_fp_tp_ratio,\n",
    "    callbacks=[\n",
    "        early_stopping(stopping_rounds=50),\n",
    "        log_evaluation(period=50)\n",
    "    ]\n",
    ")"
   ]
  },
  {
   "cell_type": "markdown",
   "metadata": {},
   "source": [
    "#### Custom Precision @ K"
   ]
  },
  {
   "cell_type": "code",
   "execution_count": null,
   "metadata": {},
   "outputs": [],
   "source": [
    "def custom_precision_at_k(preds, train_data, k=0.05):\n",
    "    ## TOP 5% transacciones más sospechosas\n",
    "    ## Predicciones\n",
    "    y_true = train_data.get_label()\n",
    "    threshold = np.percentile(preds, 100 * (1 - k))  # Top k% más sospechosas\n",
    "    y_pred = (preds >= threshold).astype(int)\n",
    "\n",
    "    from sklearn.metrics import precision_score\n",
    "    precision = precision_score(y_true, y_pred)\n",
    "\n",
    "    return 'precision_at_5p', precision, True  # True porque queremos maximizar\n"
   ]
  },
  {
   "cell_type": "code",
   "execution_count": 55,
   "metadata": {},
   "outputs": [
    {
     "name": "stdout",
     "output_type": "stream",
     "text": [
      "Training until validation scores don't improve for 50 rounds\n",
      "[50]\ttraining's auc: 0.993276\ttraining's precision_at_5p: 0.100657\tvalid_1's auc: 0.99189\tvalid_1's precision_at_5p: 0.0996905\n",
      "[100]\ttraining's auc: 0.996394\ttraining's precision_at_5p: 0.102523\tvalid_1's auc: 0.99544\tvalid_1's precision_at_5p: 0.101346\n",
      "[150]\ttraining's auc: 0.997362\ttraining's precision_at_5p: 0.103109\tvalid_1's auc: 0.996375\tvalid_1's precision_at_5p: 0.10203\n",
      "[200]\ttraining's auc: 0.997927\ttraining's precision_at_5p: 0.103495\tvalid_1's auc: 0.996894\tvalid_1's precision_at_5p: 0.102318\n",
      "[250]\ttraining's auc: 0.998308\ttraining's precision_at_5p: 0.103804\tvalid_1's auc: 0.997324\tvalid_1's precision_at_5p: 0.102822\n",
      "[300]\ttraining's auc: 0.998563\ttraining's precision_at_5p: 0.10405\tvalid_1's auc: 0.997565\tvalid_1's precision_at_5p: 0.103109\n",
      "[350]\ttraining's auc: 0.998742\ttraining's precision_at_5p: 0.104143\tvalid_1's auc: 0.997722\tvalid_1's precision_at_5p: 0.103145\n",
      "[400]\ttraining's auc: 0.998866\ttraining's precision_at_5p: 0.104189\tvalid_1's auc: 0.997821\tvalid_1's precision_at_5p: 0.103217\n",
      "[450]\ttraining's auc: 0.998993\ttraining's precision_at_5p: 0.104205\tvalid_1's auc: 0.997948\tvalid_1's precision_at_5p: 0.103289\n",
      "[500]\ttraining's auc: 0.999088\ttraining's precision_at_5p: 0.104205\tvalid_1's auc: 0.998036\tvalid_1's precision_at_5p: 0.103397\n",
      "Did not meet early stopping. Best iteration is:\n",
      "[500]\ttraining's auc: 0.999088\ttraining's precision_at_5p: 0.104205\tvalid_1's auc: 0.998036\tvalid_1's precision_at_5p: 0.103397\n"
     ]
    }
   ],
   "source": [
    "model = lgb.train(\n",
    "    params,\n",
    "    train_data,\n",
    "    valid_sets=[train_data, test_data],\n",
    "    num_boost_round=500,\n",
    "    feval=custom_precision_at_k,\n",
    "    callbacks=[\n",
    "        early_stopping(stopping_rounds=50),\n",
    "        log_evaluation(period=50)\n",
    "    ]\n",
    ")"
   ]
  },
  {
   "cell_type": "markdown",
   "metadata": {},
   "source": [
    "### Custom F2-score"
   ]
  },
  {
   "cell_type": "code",
   "execution_count": 51,
   "metadata": {},
   "outputs": [],
   "source": [
    "def custom_f2_score(preds, train_data):\n",
    "    y_true = train_data.get_label()\n",
    "    y_pred = (preds > 0.5).astype(int)\n",
    "\n",
    "    from sklearn.metrics import fbeta_score\n",
    "    f2 = fbeta_score(y_true, y_pred, beta=2)  # F2 prioriza recall\n",
    "\n",
    "    return 'f2_score', f2, True  # True porque queremos maximizar\n"
   ]
  },
  {
   "cell_type": "code",
   "execution_count": 52,
   "metadata": {},
   "outputs": [
    {
     "name": "stdout",
     "output_type": "stream",
     "text": [
      "Training until validation scores don't improve for 50 rounds\n",
      "[50]\ttraining's auc: 0.993276\ttraining's f2_score: 0.402966\tvalid_1's auc: 0.99189\tvalid_1's f2_score: 0.401235\n",
      "[100]\ttraining's auc: 0.996394\ttraining's f2_score: 0.472443\tvalid_1's auc: 0.99544\tvalid_1's f2_score: 0.468308\n",
      "[150]\ttraining's auc: 0.997362\ttraining's f2_score: 0.491929\tvalid_1's auc: 0.996375\tvalid_1's f2_score: 0.486259\n",
      "[200]\ttraining's auc: 0.997927\ttraining's f2_score: 0.507993\tvalid_1's auc: 0.996894\tvalid_1's f2_score: 0.500376\n",
      "[250]\ttraining's auc: 0.998308\ttraining's f2_score: 0.536176\tvalid_1's auc: 0.997324\tvalid_1's f2_score: 0.528663\n",
      "[300]\ttraining's auc: 0.998563\ttraining's f2_score: 0.550866\tvalid_1's auc: 0.997565\tvalid_1's f2_score: 0.542404\n",
      "[350]\ttraining's auc: 0.998742\ttraining's f2_score: 0.566938\tvalid_1's auc: 0.997722\tvalid_1's f2_score: 0.556726\n",
      "[400]\ttraining's auc: 0.998866\ttraining's f2_score: 0.581961\tvalid_1's auc: 0.997821\tvalid_1's f2_score: 0.57005\n",
      "[450]\ttraining's auc: 0.998993\ttraining's f2_score: 0.593921\tvalid_1's auc: 0.997948\tvalid_1's f2_score: 0.581424\n",
      "[500]\ttraining's auc: 0.999088\ttraining's f2_score: 0.607957\tvalid_1's auc: 0.998036\tvalid_1's f2_score: 0.59494\n",
      "Did not meet early stopping. Best iteration is:\n",
      "[500]\ttraining's auc: 0.999088\ttraining's f2_score: 0.607957\tvalid_1's auc: 0.998036\tvalid_1's f2_score: 0.59494\n"
     ]
    }
   ],
   "source": [
    "\n",
    "model = lgb.train(\n",
    "    params,\n",
    "    train_data,\n",
    "    valid_sets=[train_data, test_data],\n",
    "    num_boost_round=500,\n",
    "    feval=custom_f2_score,\n",
    "    callbacks=[\n",
    "        early_stopping(stopping_rounds=50),\n",
    "        log_evaluation(period=50)\n",
    "    ]\n",
    ")"
   ]
  },
  {
   "cell_type": "markdown",
   "metadata": {},
   "source": [
    "El modelo base presenta un excelente desempeño en términos de AUC-ROC (0.9980), evidenciando una capacidad notable para distinguir entre transacciones fraudulentas y legítimas. Sin embargo, métricas personalizadas como el ratio FP/TP (1.1035) y Precision@5% (0.05195) muestran la necesidad de seguir optimizando la reducción de falsos positivos, especialmente en los casos de mayor sospecha. El F2-score de 0.7937 destaca la capacidad del modelo para priorizar la detección de fraudes, alineándose con el objetivo de maximizar la cobertura de casos fraudulentos. En conjunto, estos resultados sugieren que, si bien la base del modelo es sólida, estrategias adicionales de balanceo y ajuste de umbrales serán necesarias para reducir aún más la cantidad de falsos positivos sin comprometer la capacidad de detección."
   ]
  },
  {
   "cell_type": "markdown",
   "metadata": {},
   "source": [
    "## Tabla comparativa final - Evaluación de Métricas Personalizadas\n"
   ]
  },
  {
   "cell_type": "markdown",
   "metadata": {},
   "source": [
    "| Métrica           | Valor (Validación) | Comentario                                                                                            |\n",
    "| ----------------- | -----------------: | ----------------------------------------------------------------------------------------------------- |\n",
    "| **AUC-ROC**       |             0.9980 | El modelo discrimina muy bien entre fraudes y no fraudes.                                             |\n",
    "| **FP/TP Ratio**   |               4.27 | Redujiste falsos positivos por cada fraude detectado, mejorando la precisión general.                 |\n",
    "| **Precision\\@5%** |             0.1034 | Mejoró la precisión en el 5% de transacciones más sospechosas (casos prioritarios en redes sociales). |\n",
    "| **F2-score**      |             0.5949 | Mejora significativa en recall ponderado, ideal para tu objetivo de cobertura en fraudes digitales.   |\n"
   ]
  },
  {
   "cell_type": "markdown",
   "metadata": {},
   "source": [
    "Para la detección de fraudes en plataformas digitales y redes sociales, se requiere priorizar la cobertura de casos (recall), dado el volumen y la criticidad de transacciones en estos entornos. Si bien la métrica FP/TP Ratio ayuda a controlar falsos positivos, y Precision@5% permite evaluar la calidad de las alertas prioritarias, la métrica F2-score se alinea mejor al objetivo asignado. Con un F2-score de 0.5949, el modelo logra maximizar la detección de fraudes digitales sin sacrificar significativamente la precisión, optimizando así la cobertura y efectividad en la identificación de transacciones fraudulentas."
   ]
  }
 ],
 "metadata": {
  "kernelspec": {
   "display_name": "base",
   "language": "python",
   "name": "python3"
  },
  "language_info": {
   "codemirror_mode": {
    "name": "ipython",
    "version": 3
   },
   "file_extension": ".py",
   "mimetype": "text/x-python",
   "name": "python",
   "nbconvert_exporter": "python",
   "pygments_lexer": "ipython3",
   "version": "3.12.4"
  }
 },
 "nbformat": 4,
 "nbformat_minor": 2
}
